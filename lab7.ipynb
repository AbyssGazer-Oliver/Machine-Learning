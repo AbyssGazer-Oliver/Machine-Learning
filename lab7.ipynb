{
  "nbformat": 4,
  "nbformat_minor": 0,
  "metadata": {
    "colab": {
      "name": "lab7.ipynb",
      "provenance": [],
      "collapsed_sections": [],
      "authorship_tag": "ABX9TyMrviH/qnBEGCWsMTWij7Ic",
      "include_colab_link": true
    },
    "kernelspec": {
      "name": "python3",
      "display_name": "Python 3"
    },
    "language_info": {
      "name": "python"
    },
    "accelerator": "GPU"
  },
  "cells": [
    {
      "cell_type": "markdown",
      "metadata": {
        "id": "view-in-github",
        "colab_type": "text"
      },
      "source": [
        "<a href=\"https://colab.research.google.com/github/AbyssGazer-Oliver/Machine-Learning/blob/main/lab7.ipynb\" target=\"_parent\"><img src=\"https://colab.research.google.com/assets/colab-badge.svg\" alt=\"Open In Colab\"/></a>"
      ]
    },
    {
      "cell_type": "code",
      "execution_count": null,
      "metadata": {
        "id": "xXZR68vgaFoQ"
      },
      "outputs": [],
      "source": [
        "import numpy as np\n",
        "import matplotlib.pyplot as plt\n",
        "%matplotlib inline\n",
        "from sklearn import linear_model, preprocessing"
      ]
    },
    {
      "cell_type": "code",
      "source": [
        "from tqdm import tqdm\n",
        "import requests\n",
        "import os\n",
        "import zipfile\n",
        "\n",
        "def download_file(src_url, dst_fn):\n",
        "    \n",
        "    if os.path.exists(dst_fn):\n",
        "        print('File %s already exists' % dst_fn)\n",
        "        return\n",
        "    \n",
        "    print('Downloading %s' % dst_fn)\n",
        "    \n",
        "    # Streaming, so we can iterate over the response.\n",
        "    r = requests.get(src_url, stream=True)\n",
        "\n",
        "    # Total size in MB.\n",
        "    total_size = int(r.headers.get('content-length', 0)); \n",
        "    block_size = 1024\n",
        "    wrote = 0 \n",
        "    with open(dst_fn, 'wb') as f:\n",
        "        with tqdm(total=total_size//block_size, unit='kB', \n",
        "                           unit_scale=True, unit_divisor=1024) as pbar:\n",
        "            for data in r.iter_content(block_size):\n",
        "                wrote = wrote + len(data)\n",
        "                pbar.update(1)\n",
        "                f.write(data)\n",
        "    if total_size != 0 and wrote != total_size:\n",
        "        print(\"ERROR, something went wrong\") \n",
        "\n",
        "# Get file names\n",
        "matlab_dir = 'matlab'\n",
        "digits_fn =  os.path.join(matlab_dir,'emnist-digits.mat')\n",
        "letters_fn = os.path.join(matlab_dir,'emnist-letters.mat')\n",
        "\n",
        "# Check if files exists\n",
        "if os.path.exists(matlab_dir):\n",
        "    if os.path.exists(digits_fn) and os.path.exists(letters_fn):\n",
        "        print('Files already downloaded')\n",
        "        files_exists = True\n",
        "else:\n",
        "    files_exists = False\n",
        "    \n",
        "if not files_exists:\n",
        "    # First download the zip file if needed\n",
        "    src_url = \"http://www.itl.nist.gov/iaui/vip/cs_links/EMNIST/matlab.zip\"\n",
        "    dst_fn = 'matlab.zip'\n",
        "    download_file(src_url, dst_fn)\n",
        "    \n",
        "    # Then, unzip the file\n",
        "    print('Unzipping %s...' % dst_fn)\n",
        "    zip_ref = zipfile.ZipFile(dst_fn, 'r')\n",
        "    zip_ref.extractall('.')\n",
        "    zip_ref.close()\n",
        "    print('Unzip completed')"
      ],
      "metadata": {
        "colab": {
          "base_uri": "https://localhost:8080/"
        },
        "id": "sHEN3E9_aS1b",
        "outputId": "71706e98-817d-45df-9839-aa679a40a6ed"
      },
      "execution_count": null,
      "outputs": [
        {
          "output_type": "stream",
          "name": "stdout",
          "text": [
            "Files already downloaded\n"
          ]
        }
      ]
    },
    {
      "cell_type": "code",
      "source": [
        "import scipy.io\n",
        "def load_emnist(file_path='emnist-digits.mat'):\n",
        "    \"\"\"\n",
        "    Loads training and test data with ntr and nts training and test samples\n",
        "    The `file_path` is the location of the `eminst-balanced.mat`.\n",
        "    \"\"\"    \n",
        "    \n",
        "    # Load the MATLAB file\n",
        "    mat = scipy.io.loadmat(file_path)\n",
        "    \n",
        "    # Get the training data\n",
        "    Xtr = mat['dataset'][0][0][0][0][0][0][:]\n",
        "    ntr = Xtr.shape[0]\n",
        "    ytr = mat['dataset'][0][0][0][0][0][1][:].reshape(ntr).astype(int)\n",
        "    \n",
        "    # Get the test data\n",
        "    Xts = mat['dataset'][0][0][1][0][0][0][:]\n",
        "    nts = Xts.shape[0]\n",
        "    yts = mat['dataset'][0][0][1][0][0][1][:].reshape(nts).astype(int)\n",
        "    \n",
        "    print(\"%d training samples, %d test samples loaded\" % (ntr, nts))\n",
        "\n",
        "    return [Xtr, Xts, ytr, yts]"
      ],
      "metadata": {
        "id": "xF46i1TUadUF"
      },
      "execution_count": null,
      "outputs": []
    },
    {
      "cell_type": "code",
      "source": [
        "# TODO 1:  Load the digit data from emnist-digits.mat\n",
        "Xtr_dig, Xts_dig, ytr_dig, yts_dig = load_emnist(digits_fn)"
      ],
      "metadata": {
        "colab": {
          "base_uri": "https://localhost:8080/"
        },
        "id": "fTCS_4r9ahq0",
        "outputId": "02971d86-0b57-4d29-c919-d40a690dcae8"
      },
      "execution_count": null,
      "outputs": [
        {
          "output_type": "stream",
          "name": "stdout",
          "text": [
            "240000 training samples, 40000 test samples loaded\n"
          ]
        }
      ]
    },
    {
      "cell_type": "code",
      "source": [
        "# TODO 2:  Load the digit data from emnist-letters.mat\n",
        "Xtr_let, Xts_let, ytr_let, yts_let = load_emnist(letters_fn)"
      ],
      "metadata": {
        "colab": {
          "base_uri": "https://localhost:8080/"
        },
        "id": "ZgPrB-OOaqqa",
        "outputId": "e70903cb-7b3b-4ff0-e42f-5cfe5e30fa00"
      },
      "execution_count": null,
      "outputs": [
        {
          "output_type": "stream",
          "name": "stdout",
          "text": [
            "124800 training samples, 20800 test samples loaded\n"
          ]
        }
      ]
    },
    {
      "cell_type": "code",
      "source": [
        "def plt_digit(x,y=None):\n",
        "    nrow = 28\n",
        "    ncol = 28\n",
        "    xsq = x.reshape((nrow,ncol))\n",
        "    plt.imshow(xsq.T,  cmap='Greys_r')\n",
        "    plt.xticks([])\n",
        "    plt.yticks([])    \n",
        "    if y != None:\n",
        "        plt.title('%d' % y) "
      ],
      "metadata": {
        "id": "57bIxt6dbEhA"
      },
      "execution_count": null,
      "outputs": []
    },
    {
      "cell_type": "code",
      "source": [
        "# TODO 3:  Plot 8 random samples from the training data of the digits\n",
        "I=np.random.permutation(Xtr_dig.shape[0])\n",
        "plt.figure(figsize=(10,20))\n",
        "for i in range(8):\n",
        "  plt.subplot(1,8,i+1)\n",
        "  plt_digit(Xtr_dig[I[i],:], ytr_dig[I[i]])"
      ],
      "metadata": {
        "colab": {
          "base_uri": "https://localhost:8080/",
          "height": 110
        },
        "id": "0krv_YW2bFcz",
        "outputId": "5ffaecc4-2959-43b2-d736-3c2fd8329514"
      },
      "execution_count": null,
      "outputs": [
        {
          "output_type": "display_data",
          "data": {
            "text/plain": [
              "<Figure size 720x1440 with 8 Axes>"
            ],
            "image/png": "[encoded data removed]"
          },
          "metadata": {}
        }
      ]
    },
    {
      "cell_type": "code",
      "source": [
        "# TODO 4:  Plot 8 random samples from the training data of the letters\n",
        "I=np.random.permutation(Xtr_let.shape[0])\n",
        "plt.figure(figsize=(10,20))\n",
        "for i in range(8):\n",
        "  plt.subplot(1,8,i+1)\n",
        "  plt_digit(Xtr_let[I[i],:], ytr_let[I[i]])"
      ],
      "metadata": {
        "colab": {
          "base_uri": "https://localhost:8080/",
          "height": 110
        },
        "id": "HukMNOLYcLOJ",
        "outputId": "f414f9a1-2efc-4854-9f2a-8379fdc1b632"
      },
      "execution_count": null,
      "outputs": [
        {
          "output_type": "display_data",
          "data": {
            "text/plain": [
              "<Figure size 720x1440 with 8 Axes>"
            ],
            "image/png": "[encoded data removed]"
          },
          "metadata": {}
        }
      ]
    },
    {
      "cell_type": "code",
      "source": [
        "remove_list = np.array([9,12,15])\n",
        "\n",
        "# TODO 5:  Create arrays with labels 9, 12 and 15 removed\n",
        "def remove_select(X,y):\n",
        "  I=np.all(y[:,None]!=remove_list[None,:], axis=1)\n",
        "  X_select=X[I,:]\n",
        "  y_select=y[I]\n",
        "  return X_select,y_select\n",
        "\n",
        "Xtr_let_rem, ytr_let_rem = remove_select(Xtr_let,ytr_let)\n",
        "Xts_let_rem, yts_let_rem = remove_select(Xts_let,yts_let)"
      ],
      "metadata": {
        "id": "kBQutIx2cdrS"
      },
      "execution_count": null,
      "outputs": []
    },
    {
      "cell_type": "code",
      "source": [
        "# Number of training and test digits and letters\n",
        "ntr_dig = 5000\n",
        "ntr_let = 1000\n",
        "nts_dig = 5000\n",
        "nts_let = 1000\n",
        "\n",
        "# TODO 6 Create sub-sampled training and test data\\\n",
        "def random_select(X,y,n):\n",
        "  I=np.random.permutation(X.shape[0])\n",
        "  X1=X[I[:n],:]\n",
        "  y1=y[I[:n]]\n",
        "  return X1,y1\n",
        "  \n",
        "Xtr1_dig, ytr1_dig = random_select(Xtr_dig,ytr_dig,ntr_dig)\n",
        "Xts1_dig, yts1_dig = random_select(Xts_dig,yts_dig,nts_dig)\n",
        "Xtr1_let, ytr1_let = random_select(Xtr_let_rem,ytr_let_rem,ntr_let)\n",
        "Xts1_let, yts1_let = random_select(Xts_let_rem,yts_let_rem,nts_let)"
      ],
      "metadata": {
        "id": "HjqCAYjXdf2v"
      },
      "execution_count": null,
      "outputs": []
    },
    {
      "cell_type": "code",
      "source": [
        "# TODO 7:  Create combined letter and digit training and test data\n",
        "def combine(X1,X2,y,n):\n",
        "  X_=np.vstack((X1,X2))\n",
        "  y_=np.hstack((y,10*np.ones(n,dtype='int')))\n",
        "  return X_,y_\n",
        "\n",
        "Xtr, ytr = combine(Xtr1_dig,Xtr1_let,ytr1_dig,ntr_let)\n",
        "Xts, yts = combine(Xts1_dig,Xts1_let,yts1_dig,nts_let)"
      ],
      "metadata": {
        "id": "yyHqmKmvfWjH"
      },
      "execution_count": null,
      "outputs": []
    },
    {
      "cell_type": "code",
      "source": [
        "# TODO 8:  Rescale the data from -1 to 1\n",
        "Xtr1 = 2*Xtr/255.0-1\n",
        "Xts1 = 2*Xts/255.0-1"
      ],
      "metadata": {
        "id": "ynhnWqRwgnSp"
      },
      "execution_count": null,
      "outputs": []
    },
    {
      "cell_type": "code",
      "source": [
        "from sklearn import svm\n",
        "\n",
        "# TODO 9:  Create a classifier: a support vector classifier\n",
        "svc = svm.SVC(probability=False,kernel=\"rbf\", C=2.8, gamma=.0073, verbose=10)"
      ],
      "metadata": {
        "id": "XwMtm-EIg1gd"
      },
      "execution_count": null,
      "outputs": []
    },
    {
      "cell_type": "code",
      "source": [
        "# TODO 10:  Fit the classifier on the training data.\n",
        "svc.fit(Xtr1,ytr)"
      ],
      "metadata": {
        "colab": {
          "base_uri": "https://localhost:8080/"
        },
        "id": "_cmVUMNfhM0u",
        "outputId": "83ce7dc2-c33f-4f47-c5e0-60663e6ba635"
      },
      "execution_count": null,
      "outputs": [
        {
          "output_type": "stream",
          "name": "stdout",
          "text": [
            "[LibSVM]"
          ]
        },
        {
          "output_type": "execute_result",
          "data": {
            "text/plain": [
              "SVC(C=2.8, gamma=0.0073, verbose=10)"
            ]
          },
          "metadata": {},
          "execution_count": 15
        }
      ]
    },
    {
      "cell_type": "code",
      "source": [
        "# TODO 11:  Measure error on the test data\n",
        "yhat=svc.predict(Xts1)\n",
        "print(np.mean(yhat==yts))"
      ],
      "metadata": {
        "colab": {
          "base_uri": "https://localhost:8080/"
        },
        "id": "UfUfM4s6hTPD",
        "outputId": "d3124000-8f2b-4783-cd5b-ef70d58a85f1"
      },
      "execution_count": null,
      "outputs": [
        {
          "output_type": "stream",
          "name": "stdout",
          "text": [
            "0.9028333333333334\n"
          ]
        }
      ]
    },
    {
      "cell_type": "code",
      "source": [
        "# TODO 12:  Print a confusion matrix\n",
        "from sklearn.metrics import confusion_matrix\n",
        "C=confusion_matrix(yts,yhat)\n",
        "C_sum=np.sum(C,1)\n",
        "C_normal=C/C_sum[np.newaxis,:]\n",
        "print(np.array_str(C_normal, precision=3, suppress_small=True))"
      ],
      "metadata": {
        "colab": {
          "base_uri": "https://localhost:8080/"
        },
        "id": "a2j4n_4PhwyC",
        "outputId": "3d6c2ecb-f817-46d5-e8b4-6a98d620d213"
      },
      "execution_count": null,
      "outputs": [
        {
          "output_type": "stream",
          "name": "stdout",
          "text": [
            "[[0.969 0.    0.    0.    0.    0.    0.    0.002 0.002 0.    0.013]\n",
            " [0.    0.98  0.002 0.    0.    0.    0.    0.    0.002 0.002 0.007]\n",
            " [0.004 0.002 0.925 0.002 0.    0.    0.    0.006 0.002 0.    0.03 ]\n",
            " [0.    0.    0.004 0.949 0.    0.009 0.    0.002 0.012 0.006 0.006]\n",
            " [0.    0.    0.    0.    0.9   0.    0.    0.    0.    0.002 0.047]\n",
            " [0.004 0.002 0.    0.022 0.006 0.899 0.004 0.    0.002 0.002 0.035]\n",
            " [0.004 0.    0.    0.    0.    0.    0.95  0.    0.    0.    0.023]\n",
            " [0.    0.004 0.004 0.004 0.006 0.    0.    0.952 0.004 0.013 0.006]\n",
            " [0.004 0.004 0.    0.004 0.002 0.006 0.    0.002 0.904 0.01  0.032]\n",
            " [0.002 0.002 0.    0.007 0.015 0.    0.    0.02  0.01  0.937 0.006]\n",
            " [0.039 0.045 0.069 0.055 0.061 0.095 0.048 0.02  0.044 0.048 0.736]]\n"
          ]
        }
      ]
    },
    {
      "cell_type": "code",
      "source": [
        "# TODO 13:  Print above two error rates\n",
        "err_mis_letter=np.mean((yhat== 10)&(yts< 10))\n",
        "err_mis_digit=np.mean((yhat< 10)&(yts== 10))\n",
        "print(\"The fraction of digits mislabeled as letters is\",err_mis_letter)\n",
        "print(\"The fraction of letters mislabeled as digits is\",err_mis_digit)"
      ],
      "metadata": {
        "colab": {
          "base_uri": "https://localhost:8080/"
        },
        "id": "l14I7n7XjKa0",
        "outputId": "e580c29a-d656-43d3-edd2-06d915f00313"
      },
      "execution_count": null,
      "outputs": [
        {
          "output_type": "stream",
          "name": "stdout",
          "text": [
            "The fraction of digits mislabeled as letters is 0.034166666666666665\n",
            "The fraction of letters mislabeled as digits is 0.044\n"
          ]
        }
      ]
    },
    {
      "cell_type": "code",
      "source": [
        "C_test = [0.1,1,10]\n",
        "gam_test = [0.001,0.01,0.1]\n",
        "\n",
        "nC = len(C_test)\n",
        "ngam = len(gam_test)\n",
        "acc = np.zeros((nC,ngam))\n",
        "\n",
        "# TODO 14:  Measure and print the accuracy for each C and gamma value.  Store the results in acc\n",
        "for i, C in enumerate(C_test):\n",
        "  for j, gam in enumerate(gam_test):\n",
        "    svc=svm.SVC(probability=False,kernel=\"rbf\", C=C, gamma=gam,verbose=10)\n",
        "    svc.fit(Xtr1,ytr)\n",
        "    yhat=svc.predict(Xts1)\n",
        "    acc[i,j]=np.mean(yhat==yts)"
      ],
      "metadata": {
        "colab": {
          "base_uri": "https://localhost:8080/"
        },
        "id": "ZagOR8L0j5jf",
        "outputId": "c5a88d03-6742-4490-a32a-36a6198b4afc"
      },
      "execution_count": null,
      "outputs": [
        {
          "output_type": "stream",
          "name": "stdout",
          "text": [
            "[LibSVM][LibSVM][LibSVM][LibSVM][LibSVM][LibSVM][LibSVM][LibSVM][LibSVM]"
          ]
        }
      ]
    },
    {
      "cell_type": "code",
      "source": [
        "# TODO 15:  Print the accuracy matrix\n",
        "print(acc)"
      ],
      "metadata": {
        "colab": {
          "base_uri": "https://localhost:8080/"
        },
        "id": "TjFbqMIJnI9I",
        "outputId": "41acb5c1-3280-49be-8ea8-4dad85093411"
      },
      "execution_count": null,
      "outputs": [
        {
          "output_type": "stream",
          "name": "stdout",
          "text": [
            "[[0.50983333 0.81383333 0.22833333]\n",
            " [0.81816667 0.8965     0.393     ]\n",
            " [0.85366667 0.90766667 0.44366667]]\n"
          ]
        }
      ]
    },
    {
      "cell_type": "code",
      "source": [
        "# TODO 16:  Print the maximum accuracy and the corresponding best C and gamma\n",
        "I_max=np.argmax(acc)\n",
        "i_max,j_max=np.unravel_index(I_max,(nC,ngam))\n",
        "print(\"The maximum accuracy is\",np.max(acc))\n",
        "print(\"The best C is\",C_test[i_max])\n",
        "print(\"The best gamma is\",gam_test[j_max])"
      ],
      "metadata": {
        "colab": {
          "base_uri": "https://localhost:8080/"
        },
        "id": "q1Za-ffgnRvo",
        "outputId": "88af01a4-ffa2-4cb9-f3e2-6cf671f3fdb8"
      },
      "execution_count": null,
      "outputs": [
        {
          "output_type": "stream",
          "name": "stdout",
          "text": [
            "The maximum accuracy is 0.9076666666666666\n",
            "The best C is 10\n",
            "The best gamma is 0.01\n"
          ]
        }
      ]
    },
    {
      "cell_type": "code",
      "source": [
        "x=np.array([0,1.3,2.1,2.8,4.2,5.7])\n",
        "y=np.array([-1,-1,-1,1,-1,1])\n",
        "t=np.linspace(0,6,100)\n",
        "J=[]\n",
        "for i in t:\n",
        "  z=x-i\n",
        "  Jt=np.sum(np.maximum(0,1-y*z))\n",
        "  J.append(Jt)\n",
        "J=np.array(J)\n",
        "plt.plot(t,J)\n",
        "plt.xlabel('t')\n",
        "plt.ylabel('J(t)')\n",
        "plt.grid()\n",
        "Xmat=x.reshape([4,4])"
      ],
      "metadata": {
        "colab": {
          "base_uri": "https://localhost:8080/",
          "height": 283
        },
        "id": "UzNCLVZEyrQ8",
        "outputId": "7e895fc7-3873-4963-abc3-eb4619105338"
      },
      "execution_count": null,
      "outputs": [
        {
          "output_type": "display_data",
          "data": {
            "text/plain": [
              "<Figure size 432x288 with 1 Axes>"
            ],
            "image/png": "[encoded data removed]"
          },
          "metadata": {
            "needs_background": "light"
          }
        }
      ]
    },
    {
      "cell_type": "code",
      "source": [
        "x=np.array([0,1,2,3])\n",
        "y=np.array([1,-1,1,-1])\n",
        "a=np.array([0,0,1,1])\n",
        "gam=3\n",
        "x_=np.linspace(-2,5,100)\n",
        "x_mat,xmat=np.meshgrid(x_,x)\n",
        "dist=(x_mat-xmat)**2\n",
        "z=(y*a).dot(np.exp(-gam*dist))\n",
        "plt.plot(x_,z)\n",
        "plt.xlabel('x')\n",
        "plt.ylabel('z')\n",
        "plt.grid()"
      ],
      "metadata": {
        "colab": {
          "base_uri": "https://localhost:8080/",
          "height": 279
        },
        "id": "seU89NCT4YaG",
        "outputId": "4a4e23d4-6e5a-4803-984c-57bbfd3d11ad"
      },
      "execution_count": null,
      "outputs": [
        {
          "output_type": "display_data",
          "data": {
            "text/plain": [
              "<Figure size 432x288 with 1 Axes>"
            ],
            "image/png": "[encoded data removed]"
          },
          "metadata": {
            "needs_background": "light"
          }
        }
      ]
    },
    {
      "cell_type": "code",
      "source": [
        "yhat="
      ],
      "metadata": {
        "id": "yaDHKclQ5zVq"
      },
      "execution_count": null,
      "outputs": []
    }
  ]
}
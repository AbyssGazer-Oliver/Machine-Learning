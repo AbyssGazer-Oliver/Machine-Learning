{
  "nbformat": 4,
  "nbformat_minor": 0,
  "metadata": {
    "colab": {
      "name": "lab8.ipynb",
      "provenance": [],
      "collapsed_sections": [],
      "authorship_tag": "ABX9TyNdA8lIx9MmJUYA9QEJJybR",
      "include_colab_link": true
    },
    "kernelspec": {
      "name": "python3",
      "display_name": "Python 3"
    },
    "language_info": {
      "name": "python"
    }
  },
  "cells": [
    {
      "cell_type": "markdown",
      "metadata": {
        "id": "view-in-github",
        "colab_type": "text"
      },
      "source": [
        "<a href=\"https://colab.research.google.com/github/AbyssGazer-Oliver/Machine-Learning/blob/main/lab8.ipynb\" target=\"_parent\"><img src=\"https://colab.research.google.com/assets/colab-badge.svg\" alt=\"Open In Colab\"/></a>"
      ]
    },
    {
      "cell_type": "code",
      "execution_count": 39,
      "metadata": {
        "id": "SLJZxI48dGLv"
      },
      "outputs": [],
      "source": [
        "import tensorflow as tf"
      ]
    },
    {
      "cell_type": "code",
      "source": [
        "import numpy as np\n",
        "import matplotlib\n",
        "import matplotlib.pyplot as plt"
      ],
      "metadata": {
        "id": "V6VONEKYdK-m"
      },
      "execution_count": 58,
      "outputs": []
    },
    {
      "cell_type": "code",
      "source": [
        "import librosa\n",
        "import librosa.display\n",
        "import librosa.feature"
      ],
      "metadata": {
        "id": "5HtEpLRWdQYv"
      },
      "execution_count": 41,
      "outputs": []
    },
    {
      "cell_type": "code",
      "source": [
        "import requests\n",
        "fn = \"SopSax.Vib.pp.C6Eb6.aiff\"\n",
        "url = \"http://theremin.music.uiowa.edu/sound files/MIS/Woodwinds/sopranosaxophone/\"+fn\n",
        "# TODO 1:  Load the file from url and save it in a file under the name fn\n",
        "with open(fn,\"wb\")as file:\n",
        "  file.write(requests.get(url).content)"
      ],
      "metadata": {
        "id": "9aO8o0bjdZqv"
      },
      "execution_count": 42,
      "outputs": []
    },
    {
      "cell_type": "code",
      "source": [
        "# TODO 2\n",
        "y, sr = librosa.load(fn)"
      ],
      "metadata": {
        "id": "ey37H-HrdjoM"
      },
      "execution_count": 43,
      "outputs": []
    },
    {
      "cell_type": "code",
      "source": [
        "S = librosa.feature.melspectrogram(y=y, sr=sr, n_mels=128, fmax=8000)\n",
        "librosa.display.specshow(librosa.amplitude_to_db(S),\n",
        "                         y_axis='mel', fmax=8000, x_axis='time')\n",
        "plt.colorbar(format='%+2.0f dB')\n",
        "plt.title('Mel spectrogram')\n",
        "plt.tight_layout()"
      ],
      "metadata": {
        "colab": {
          "base_uri": "https://localhost:8080/",
          "height": 297
        },
        "id": "_ql4gSu9eGdi",
        "outputId": "de299ae0-23c1-43f5-e72c-17f23e2e01ef"
      },
      "execution_count": 44,
      "outputs": [
        {
          "output_type": "display_data",
          "data": {
            "text/plain": [
              "<Figure size 432x288 with 2 Axes>"
            ],
            "image/png": "[encoded data removed]"
          },
          "metadata": {
            "needs_background": "light"
          }
        }
      ]
    },
    {
      "cell_type": "code",
      "source": [
        "data_dir = 'instrument_dataset/'\n",
        "Xtr = np.load(data_dir+'uiowa_train_data.npy')\n",
        "ytr = np.load(data_dir+'uiowa_train_labels.npy')\n",
        "Xts = np.load(data_dir+'uiowa_test_data.npy')\n",
        "yts = np.load(data_dir+'uiowa_test_labels.npy')"
      ],
      "metadata": {
        "id": "YK_gGGN3eK_b"
      },
      "execution_count": 45,
      "outputs": []
    },
    {
      "cell_type": "code",
      "source": [
        "# TODO 3\n",
        "print(\"the number of training samples is\",Xtr.shape[0])\n",
        "print(\"The number of test samples is \",Xts.shape[0])\n",
        "print(\"The number of features for each sample is \",Xtr.shape[1])\n",
        "print(\"The number of classes per class is \",len(np.unique(ytr)))"
      ],
      "metadata": {
        "colab": {
          "base_uri": "https://localhost:8080/"
        },
        "id": "Dl-fpRvYgJas",
        "outputId": "fb3f64e9-8b4b-47db-ff57-b5be96495652"
      },
      "execution_count": 46,
      "outputs": [
        {
          "output_type": "stream",
          "name": "stdout",
          "text": [
            "the number of training samples is 66247\n",
            "The number of test samples is  14904\n",
            "The number of features for each sample is  120\n",
            "The number of classes per class is  10\n"
          ]
        }
      ]
    },
    {
      "cell_type": "code",
      "source": [
        "# TODO 4: Scale the training and test matrices\n",
        "Xtr_scale = (Xtr-np.mean(Xtr))/np.std(Xtr)\n",
        "Xts_scale = (Xts-np.mean(Xtr))/np.std(Xtr)"
      ],
      "metadata": {
        "id": "TtcBvf_Mg_RC"
      },
      "execution_count": 47,
      "outputs": []
    },
    {
      "cell_type": "code",
      "source": [
        "from tensorflow.keras.models import Model, Sequential\n",
        "from tensorflow.keras.layers import Dense, Activation\n",
        "import tensorflow.keras.backend as K"
      ],
      "metadata": {
        "id": "UbXWNaTZhyWX"
      },
      "execution_count": 48,
      "outputs": []
    },
    {
      "cell_type": "code",
      "source": [
        "# TODO 5 clear session\n",
        "K.clear_session()"
      ],
      "metadata": {
        "id": "VYBfBymLh2l3"
      },
      "execution_count": 49,
      "outputs": []
    },
    {
      "cell_type": "code",
      "source": [
        "# TODO 6: construct the model\n",
        "nh=256\n",
        "nin=Xtr_scale.shape[1]\n",
        "nout=int(np.max(ytr)+1)\n",
        "model=Sequential()\n",
        "model.add(Dense(units=nh,input_shape=(nin,),activation='sigmoid',name='hidden')) \n",
        "model.add(Dense(units=nout,activation='softmax',name='output'))"
      ],
      "metadata": {
        "id": "sD39X3bfh-84"
      },
      "execution_count": 50,
      "outputs": []
    },
    {
      "cell_type": "code",
      "source": [
        "# TODO 7:  Print the model summary\n",
        "model.summary()"
      ],
      "metadata": {
        "colab": {
          "base_uri": "https://localhost:8080/"
        },
        "id": "2rE0KRYyioYG",
        "outputId": "c610b136-7ed9-44ac-a3eb-17cf968479a1"
      },
      "execution_count": 51,
      "outputs": [
        {
          "output_type": "stream",
          "name": "stdout",
          "text": [
            "Model: \"sequential\"\n",
            "_________________________________________________________________\n",
            " Layer (type)                Output Shape              Param #   \n",
            "=================================================================\n",
            " hidden (Dense)              (None, 256)               30976     \n",
            "                                                                 \n",
            " output (Dense)              (None, 10)                2570      \n",
            "                                                                 \n",
            "=================================================================\n",
            "Total params: 33,546\n",
            "Trainable params: 33,546\n",
            "Non-trainable params: 0\n",
            "_________________________________________________________________\n"
          ]
        }
      ]
    },
    {
      "cell_type": "code",
      "source": [
        "# TODO 8\n",
        "from tensorflow.keras import optimizers\n",
        "opt = optimizers.Adam(lr=0.001)\n",
        "model.compile(optimizer=opt,loss='sparse_categorical_crossentropy',metrics=['accuracy'])"
      ],
      "metadata": {
        "colab": {
          "base_uri": "https://localhost:8080/"
        },
        "id": "3sxhcoNKjEvd",
        "outputId": "c06f2e4c-aeab-4471-c888-835088040d15"
      },
      "execution_count": 52,
      "outputs": [
        {
          "output_type": "stream",
          "name": "stderr",
          "text": [
            "/usr/local/lib/python3.7/dist-packages/keras/optimizer_v2/adam.py:105: UserWarning: The `lr` argument is deprecated, use `learning_rate` instead.\n",
            "  super(Adam, self).__init__(name, **kwargs)\n"
          ]
        }
      ]
    },
    {
      "cell_type": "code",
      "source": [
        "# TODO 9\n",
        "hist=model.fit(Xtr_scale, ytr, epochs=10, batch_size=100, validation_data=(Xts_scale,yts))"
      ],
      "metadata": {
        "colab": {
          "base_uri": "https://localhost:8080/"
        },
        "id": "58Izl7mAjhnT",
        "outputId": "befc496a-e1ab-4714-910d-7245263adf42"
      },
      "execution_count": 53,
      "outputs": [
        {
          "output_type": "stream",
          "name": "stdout",
          "text": [
            "Epoch 1/10\n",
            "663/663 [==============================] - 2s 3ms/step - loss: 1.2050 - accuracy: 0.5950 - val_loss: 1.2244 - val_accuracy: 0.5906\n",
            "Epoch 2/10\n",
            "663/663 [==============================] - 2s 3ms/step - loss: 0.7809 - accuracy: 0.7450 - val_loss: 0.8721 - val_accuracy: 0.7274\n",
            "Epoch 3/10\n",
            "663/663 [==============================] - 2s 3ms/step - loss: 0.6053 - accuracy: 0.8020 - val_loss: 0.6793 - val_accuracy: 0.7851\n",
            "Epoch 4/10\n",
            "663/663 [==============================] - 2s 3ms/step - loss: 0.4978 - accuracy: 0.8382 - val_loss: 0.5653 - val_accuracy: 0.8304\n",
            "Epoch 5/10\n",
            "663/663 [==============================] - 2s 3ms/step - loss: 0.4233 - accuracy: 0.8663 - val_loss: 0.4829 - val_accuracy: 0.8563\n",
            "Epoch 6/10\n",
            "663/663 [==============================] - 2s 3ms/step - loss: 0.3668 - accuracy: 0.8876 - val_loss: 0.4245 - val_accuracy: 0.8785\n",
            "Epoch 7/10\n",
            "663/663 [==============================] - 2s 3ms/step - loss: 0.3236 - accuracy: 0.9025 - val_loss: 0.3895 - val_accuracy: 0.8822\n",
            "Epoch 8/10\n",
            "663/663 [==============================] - 2s 3ms/step - loss: 0.2900 - accuracy: 0.9136 - val_loss: 0.3543 - val_accuracy: 0.9000\n",
            "Epoch 9/10\n",
            "663/663 [==============================] - 2s 3ms/step - loss: 0.2611 - accuracy: 0.9235 - val_loss: 0.3338 - val_accuracy: 0.9081\n",
            "Epoch 10/10\n",
            "663/663 [==============================] - 2s 3ms/step - loss: 0.2389 - accuracy: 0.9305 - val_loss: 0.3067 - val_accuracy: 0.9178\n"
          ]
        }
      ]
    },
    {
      "cell_type": "code",
      "source": [
        "# TODO 10\n",
        "plt.plot(hist.history['accuracy'])\n",
        "plt.plot(hist.history['val_accuracy'])\n",
        "plt.xlabel('Epochs')\n",
        "plt.ylabel('Accuarcy')\n",
        "plt.legend(['Training Accuracy','Validation Accuracy'])\n",
        "plt.grid()"
      ],
      "metadata": {
        "colab": {
          "base_uri": "https://localhost:8080/",
          "height": 279
        },
        "id": "Pa7g9NClj7_k",
        "outputId": "203de7be-20ba-4973-a3b0-baf1ea56496a"
      },
      "execution_count": 54,
      "outputs": [
        {
          "output_type": "display_data",
          "data": {
            "text/plain": [
              "<Figure size 432x288 with 1 Axes>"
            ],
            "image/png": "[encoded data removed]"
          },
          "metadata": {
            "needs_background": "light"
          }
        }
      ]
    },
    {
      "cell_type": "code",
      "source": [
        "# TODO 11\n",
        "plt.plot(hist.history['loss'])\n",
        "plt.xlabel('Epochs')\n",
        "plt.ylabel('Loss Values')\n",
        "plt.grid()"
      ],
      "metadata": {
        "colab": {
          "base_uri": "https://localhost:8080/",
          "height": 279
        },
        "id": "sGnUz4UTlNlj",
        "outputId": "482e850c-32eb-4a7a-d5fc-f07f4af4a0a0"
      },
      "execution_count": 55,
      "outputs": [
        {
          "output_type": "display_data",
          "data": {
            "text/plain": [
              "<Figure size 432x288 with 1 Axes>"
            ],
            "image/png": "[encoded data removed]"
          },
          "metadata": {
            "needs_background": "light"
          }
        }
      ]
    },
    {
      "cell_type": "code",
      "source": [
        "rates = [0.01,0.001,0.0001]\n",
        "batch_size = 100\n",
        "loss_hist = []\n",
        "\n",
        "# TODO 12\n",
        "for lr in rates:\n",
        "  K.clear_session()\n",
        "  nin=Xtr_scale.shape[1]\n",
        "  nout=int(np.max(ytr)+1)\n",
        "  model=Sequential()\n",
        "  model.add(Dense(units=nh,input_shape=(nin,),activation='sigmoid',name='hidden')) \n",
        "  model.add(Dense(units=nout,activation='softmax',name='output'))\n",
        "  opt = optimizers.Adam(lr)\n",
        "  model.compile(optimizer=opt,loss='sparse_categorical_crossentropy',metrics=['accuracy'])\n",
        "  hist=model.fit(Xtr_scale,ytr,epochs=20,batch_size=100,validation_data=(Xts_scale,yts))\n",
        "  loss_hist.append(hist.history['loss'])"
      ],
      "metadata": {
        "colab": {
          "base_uri": "https://localhost:8080/"
        },
        "id": "tF9-3mUBlq0U",
        "outputId": "e2c168bc-1c05-4f14-d92e-56b5938a15eb"
      },
      "execution_count": 56,
      "outputs": [
        {
          "output_type": "stream",
          "name": "stdout",
          "text": [
            "Epoch 1/20\n",
            "663/663 [==============================] - 2s 3ms/step - loss: 0.6546 - accuracy: 0.7783 - val_loss: 0.4448 - val_accuracy: 0.8677\n",
            "Epoch 2/20\n",
            "663/663 [==============================] - 2s 3ms/step - loss: 0.2785 - accuracy: 0.9046 - val_loss: 0.3351 - val_accuracy: 0.9004\n",
            "Epoch 3/20\n",
            "663/663 [==============================] - 2s 3ms/step - loss: 0.1941 - accuracy: 0.9355 - val_loss: 0.3006 - val_accuracy: 0.9163\n",
            "Epoch 4/20\n",
            "663/663 [==============================] - 2s 3ms/step - loss: 0.1568 - accuracy: 0.9478 - val_loss: 0.3036 - val_accuracy: 0.9192\n",
            "Epoch 5/20\n",
            "663/663 [==============================] - 2s 3ms/step - loss: 0.1369 - accuracy: 0.9541 - val_loss: 0.3395 - val_accuracy: 0.9149\n",
            "Epoch 6/20\n",
            "663/663 [==============================] - 2s 3ms/step - loss: 0.1210 - accuracy: 0.9591 - val_loss: 0.3281 - val_accuracy: 0.9107\n",
            "Epoch 7/20\n",
            "663/663 [==============================] - 2s 3ms/step - loss: 0.1080 - accuracy: 0.9627 - val_loss: 0.3565 - val_accuracy: 0.9063\n",
            "Epoch 8/20\n",
            "663/663 [==============================] - 2s 3ms/step - loss: 0.1002 - accuracy: 0.9655 - val_loss: 0.2521 - val_accuracy: 0.9383\n",
            "Epoch 9/20\n",
            "663/663 [==============================] - 2s 3ms/step - loss: 0.0933 - accuracy: 0.9683 - val_loss: 0.3084 - val_accuracy: 0.9075\n",
            "Epoch 10/20\n",
            "663/663 [==============================] - 2s 3ms/step - loss: 0.0803 - accuracy: 0.9718 - val_loss: 0.3190 - val_accuracy: 0.9297\n",
            "Epoch 11/20\n",
            "663/663 [==============================] - 2s 3ms/step - loss: 0.0850 - accuracy: 0.9709 - val_loss: 0.3730 - val_accuracy: 0.9198\n",
            "Epoch 12/20\n",
            "663/663 [==============================] - 2s 3ms/step - loss: 0.0736 - accuracy: 0.9745 - val_loss: 0.3245 - val_accuracy: 0.9283\n",
            "Epoch 13/20\n",
            "663/663 [==============================] - 2s 3ms/step - loss: 0.0711 - accuracy: 0.9757 - val_loss: 0.2961 - val_accuracy: 0.9439\n",
            "Epoch 14/20\n",
            "663/663 [==============================] - 2s 3ms/step - loss: 0.0632 - accuracy: 0.9782 - val_loss: 0.3759 - val_accuracy: 0.9109\n",
            "Epoch 15/20\n",
            "663/663 [==============================] - 2s 3ms/step - loss: 0.0694 - accuracy: 0.9754 - val_loss: 0.4409 - val_accuracy: 0.9267\n",
            "Epoch 16/20\n",
            "663/663 [==============================] - 2s 3ms/step - loss: 0.0638 - accuracy: 0.9785 - val_loss: 0.4544 - val_accuracy: 0.9208\n",
            "Epoch 17/20\n",
            "663/663 [==============================] - 2s 3ms/step - loss: 0.0669 - accuracy: 0.9768 - val_loss: 0.4622 - val_accuracy: 0.9271\n",
            "Epoch 18/20\n",
            "663/663 [==============================] - 2s 3ms/step - loss: 0.0639 - accuracy: 0.9784 - val_loss: 0.3402 - val_accuracy: 0.9434\n",
            "Epoch 19/20\n",
            "663/663 [==============================] - 2s 3ms/step - loss: 0.0563 - accuracy: 0.9806 - val_loss: 0.5242 - val_accuracy: 0.9078\n",
            "Epoch 20/20\n",
            "663/663 [==============================] - 2s 3ms/step - loss: 0.0621 - accuracy: 0.9779 - val_loss: 0.4763 - val_accuracy: 0.9234\n",
            "Epoch 1/20\n",
            "663/663 [==============================] - 2s 3ms/step - loss: 1.2096 - accuracy: 0.5931 - val_loss: 1.2414 - val_accuracy: 0.5536\n",
            "Epoch 2/20\n",
            "663/663 [==============================] - 2s 3ms/step - loss: 0.7881 - accuracy: 0.7420 - val_loss: 0.8730 - val_accuracy: 0.7145\n",
            "Epoch 3/20\n",
            "663/663 [==============================] - 2s 3ms/step - loss: 0.6102 - accuracy: 0.8004 - val_loss: 0.6938 - val_accuracy: 0.7875\n",
            "Epoch 4/20\n",
            "663/663 [==============================] - 2s 3ms/step - loss: 0.5022 - accuracy: 0.8358 - val_loss: 0.5753 - val_accuracy: 0.8213\n",
            "Epoch 5/20\n",
            "663/663 [==============================] - 2s 3ms/step - loss: 0.4256 - accuracy: 0.8636 - val_loss: 0.4930 - val_accuracy: 0.8489\n",
            "Epoch 6/20\n",
            "663/663 [==============================] - 2s 3ms/step - loss: 0.3680 - accuracy: 0.8859 - val_loss: 0.4354 - val_accuracy: 0.8794\n",
            "Epoch 7/20\n",
            "663/663 [==============================] - 2s 3ms/step - loss: 0.3242 - accuracy: 0.9012 - val_loss: 0.3895 - val_accuracy: 0.8862\n",
            "Epoch 8/20\n",
            "663/663 [==============================] - 2s 3ms/step - loss: 0.2885 - accuracy: 0.9147 - val_loss: 0.3753 - val_accuracy: 0.8886\n",
            "Epoch 9/20\n",
            "663/663 [==============================] - 2s 3ms/step - loss: 0.2609 - accuracy: 0.9245 - val_loss: 0.3268 - val_accuracy: 0.9065\n",
            "Epoch 10/20\n",
            "663/663 [==============================] - 2s 3ms/step - loss: 0.2379 - accuracy: 0.9311 - val_loss: 0.3122 - val_accuracy: 0.9159\n",
            "Epoch 11/20\n",
            "663/663 [==============================] - 2s 3ms/step - loss: 0.2189 - accuracy: 0.9368 - val_loss: 0.3030 - val_accuracy: 0.9173\n",
            "Epoch 12/20\n",
            "663/663 [==============================] - 2s 3ms/step - loss: 0.2025 - accuracy: 0.9423 - val_loss: 0.2972 - val_accuracy: 0.9217\n",
            "Epoch 13/20\n",
            "663/663 [==============================] - 2s 3ms/step - loss: 0.1888 - accuracy: 0.9465 - val_loss: 0.2880 - val_accuracy: 0.9238\n",
            "Epoch 14/20\n",
            "663/663 [==============================] - 2s 3ms/step - loss: 0.1771 - accuracy: 0.9497 - val_loss: 0.2769 - val_accuracy: 0.9242\n",
            "Epoch 15/20\n",
            "663/663 [==============================] - 2s 3ms/step - loss: 0.1666 - accuracy: 0.9525 - val_loss: 0.2661 - val_accuracy: 0.9306\n",
            "Epoch 16/20\n",
            "663/663 [==============================] - 2s 3ms/step - loss: 0.1575 - accuracy: 0.9564 - val_loss: 0.2617 - val_accuracy: 0.9338\n",
            "Epoch 17/20\n",
            "663/663 [==============================] - 2s 3ms/step - loss: 0.1495 - accuracy: 0.9586 - val_loss: 0.2557 - val_accuracy: 0.9337\n",
            "Epoch 18/20\n",
            "663/663 [==============================] - 2s 3ms/step - loss: 0.1416 - accuracy: 0.9601 - val_loss: 0.2422 - val_accuracy: 0.9391\n",
            "Epoch 19/20\n",
            "663/663 [==============================] - 2s 3ms/step - loss: 0.1363 - accuracy: 0.9619 - val_loss: 0.2527 - val_accuracy: 0.9374\n",
            "Epoch 20/20\n",
            "663/663 [==============================] - 2s 3ms/step - loss: 0.1293 - accuracy: 0.9638 - val_loss: 0.2570 - val_accuracy: 0.9358\n",
            "Epoch 1/20\n",
            "663/663 [==============================] - 2s 3ms/step - loss: 1.6844 - accuracy: 0.4400 - val_loss: 1.7805 - val_accuracy: 0.3835\n",
            "Epoch 2/20\n",
            "663/663 [==============================] - 2s 3ms/step - loss: 1.4130 - accuracy: 0.5159 - val_loss: 1.6597 - val_accuracy: 0.4308\n",
            "Epoch 3/20\n",
            "663/663 [==============================] - 2s 3ms/step - loss: 1.2889 - accuracy: 0.5603 - val_loss: 1.5639 - val_accuracy: 0.4614\n",
            "Epoch 4/20\n",
            "663/663 [==============================] - 2s 3ms/step - loss: 1.1976 - accuracy: 0.5931 - val_loss: 1.4898 - val_accuracy: 0.4850\n",
            "Epoch 5/20\n",
            "663/663 [==============================] - 2s 3ms/step - loss: 1.1220 - accuracy: 0.6215 - val_loss: 1.4198 - val_accuracy: 0.5074\n",
            "Epoch 6/20\n",
            "663/663 [==============================] - 2s 3ms/step - loss: 1.0573 - accuracy: 0.6473 - val_loss: 1.3525 - val_accuracy: 0.5303\n",
            "Epoch 7/20\n",
            "663/663 [==============================] - 2s 3ms/step - loss: 1.0013 - accuracy: 0.6680 - val_loss: 1.2876 - val_accuracy: 0.5605\n",
            "Epoch 8/20\n",
            "663/663 [==============================] - 2s 3ms/step - loss: 0.9524 - accuracy: 0.6863 - val_loss: 1.2247 - val_accuracy: 0.5931\n",
            "Epoch 9/20\n",
            "663/663 [==============================] - 2s 3ms/step - loss: 0.9092 - accuracy: 0.7012 - val_loss: 1.1769 - val_accuracy: 0.6020\n",
            "Epoch 10/20\n",
            "663/663 [==============================] - 2s 3ms/step - loss: 0.8705 - accuracy: 0.7142 - val_loss: 1.1298 - val_accuracy: 0.6236\n",
            "Epoch 11/20\n",
            "663/663 [==============================] - 2s 3ms/step - loss: 0.8356 - accuracy: 0.7270 - val_loss: 1.0771 - val_accuracy: 0.6451\n",
            "Epoch 12/20\n",
            "663/663 [==============================] - 2s 3ms/step - loss: 0.8036 - accuracy: 0.7381 - val_loss: 1.0314 - val_accuracy: 0.6555\n",
            "Epoch 13/20\n",
            "663/663 [==============================] - 2s 3ms/step - loss: 0.7747 - accuracy: 0.7472 - val_loss: 0.9986 - val_accuracy: 0.6762\n",
            "Epoch 14/20\n",
            "663/663 [==============================] - 2s 3ms/step - loss: 0.7480 - accuracy: 0.7566 - val_loss: 0.9573 - val_accuracy: 0.6910\n",
            "Epoch 15/20\n",
            "663/663 [==============================] - 2s 3ms/step - loss: 0.7231 - accuracy: 0.7644 - val_loss: 0.9207 - val_accuracy: 0.7050\n",
            "Epoch 16/20\n",
            "663/663 [==============================] - 2s 3ms/step - loss: 0.7002 - accuracy: 0.7725 - val_loss: 0.8860 - val_accuracy: 0.7213\n",
            "Epoch 17/20\n",
            "663/663 [==============================] - 2s 3ms/step - loss: 0.6789 - accuracy: 0.7797 - val_loss: 0.8570 - val_accuracy: 0.7242\n",
            "Epoch 18/20\n",
            "663/663 [==============================] - 2s 3ms/step - loss: 0.6591 - accuracy: 0.7866 - val_loss: 0.8268 - val_accuracy: 0.7375\n",
            "Epoch 19/20\n",
            "663/663 [==============================] - 2s 3ms/step - loss: 0.6407 - accuracy: 0.7920 - val_loss: 0.8041 - val_accuracy: 0.7499\n",
            "Epoch 20/20\n",
            "663/663 [==============================] - 2s 3ms/step - loss: 0.6231 - accuracy: 0.7979 - val_loss: 0.7807 - val_accuracy: 0.7593\n"
          ]
        }
      ]
    },
    {
      "cell_type": "code",
      "source": [
        "plt.plot(loss_hist[0])\n",
        "plt.plot(loss_hist[1])\n",
        "plt.plot(loss_hist[2])\n",
        "plt.xlabel('Epochs')\n",
        "plt.ylabel('Loss Values')\n",
        "plt.legend(['lr=0.01', 'lr=0.001','lr=0.0001'])\n",
        "plt.grid()"
      ],
      "metadata": {
        "colab": {
          "base_uri": "https://localhost:8080/",
          "height": 279
        },
        "id": "Vc1glfKBnc9H",
        "outputId": "86d21666-3601-4da9-852d-94d8adc34c0d"
      },
      "execution_count": 57,
      "outputs": [
        {
          "output_type": "display_data",
          "data": {
            "text/plain": [
              "<Figure size 432x288 with 1 Axes>"
            ],
            "image/png": "[encoded data removed]"
          },
          "metadata": {
            "needs_background": "light"
          }
        }
      ]
    },
    {
      "cell_type": "code",
      "source": [
        "x=[-4,-3,-2,-1,0,1,2,3,4]\n",
        "x=np.array(x)\n",
        "uH1=np.maximum(0,-x-1)\n",
        "uH2=np.maximum(0,x+1)\n",
        "uH3=np.maximum(0,x-2)\n",
        "plt.plot(x,uH1)\n",
        "plt.plot(x,uH2)\n",
        "plt.plot(x,uH3)\n",
        "plt.xlabel('x')\n",
        "plt.ylabel('u')\n",
        "plt.legend(['uH1','uH2','uH3'])\n",
        "plt.grid()"
      ],
      "metadata": {
        "id": "sc1hnJiFy-f3",
        "outputId": "19f96482-9427-40b0-bb42-f83142a92ca9",
        "colab": {
          "base_uri": "https://localhost:8080/",
          "height": 279
        }
      },
      "execution_count": 69,
      "outputs": [
        {
          "output_type": "display_data",
          "data": {
            "text/plain": [
              "<Figure size 432x288 with 1 Axes>"
            ],
            "image/png": "[encoded data removed]"
          },
          "metadata": {
            "needs_background": "light"
          }
        }
      ]
    },
    {
      "cell_type": "code",
      "source": [
        "WH=np.array([-1,1,1])\n",
        "bH=np.array([-1,1,-2])\n",
        "x=np.array([-2,-1,0,3,3.5])\n",
        "y=np.array([0,0,1,3,3])\n",
        "zH=x[:,None]*WH[None,:]+bH[None,:]\n",
        "uH=np.maximum(0,zH)\n",
        "u=np.hstack((np.ones((5,1)),uH))\n",
        "w=np.linalg.lstsq(u,y)[0]\n",
        "bo=w[0]\n",
        "Wo=w[1:]\n",
        "x=np.linspace(-4,4)\n",
        "yhat=linearmodel.predict(x,WH,bH,Wo,bo)"
      ],
      "metadata": {
        "id": "kVFFNUwR5r7F",
        "outputId": "2a6dfcd4-2394-43ca-a827-69d3f4fcef04",
        "colab": {
          "base_uri": "https://localhost:8080/"
        }
      },
      "execution_count": 70,
      "outputs": [
        {
          "output_type": "stream",
          "name": "stderr",
          "text": [
            "/usr/local/lib/python3.7/dist-packages/ipykernel_launcher.py:8: FutureWarning: `rcond` parameter will change to the default of machine precision times ``max(M, N)`` where M and N are the input matrix dimensions.\n",
            "To use the future default and silence this warning we advise to pass `rcond=None`, to keep using the old, explicitly pass `rcond=-1`.\n",
            "  \n"
          ]
        }
      ]
    },
    {
      "cell_type": "code",
      "source": [
        "def predict(x,Wh,bh,Wo,bo):\n",
        "  zH=x[:,None]*WH[None,:]+bH[None,:]\n",
        "  uH=np.maximum(0,zH)\n",
        "  yhat=uH.dot(Wo)+bo\n",
        "  return yhat"
      ],
      "metadata": {
        "id": "0JLl6XiC7cnc"
      },
      "execution_count": null,
      "outputs": []
    },
    {
      "cell_type": "code",
      "source": [
        "yhat=np.sum(a*u,axis=1)/np,sum(a,axis=1)\n",
        "dL_dyhat=-2*(y-yhat)\n",
        "usum=np.sum(u,axis=1)\n",
        "uasum=np.sum(u*a[None,:],axis=1)\n",
        "dyhat_du=a[None,:]/usum[:,None]-uasum/(usum**2)\n",
        "dL_du=dL_dyhat[:,None]*dyhat_du"
      ],
      "metadata": {
        "id": "87FTmz1iDbBc"
      },
      "execution_count": null,
      "outputs": []
    }
  ]
}
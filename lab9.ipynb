{
  "nbformat": 4,
  "nbformat_minor": 0,
  "metadata": {
    "colab": {
      "name": "lab9.ipynb",
      "provenance": [],
      "collapsed_sections": [],
      "authorship_tag": "ABX9TyOA3EHbjpIQR0k90NyQCbRC",
      "include_colab_link": true
    },
    "kernelspec": {
      "name": "python3",
      "display_name": "Python 3"
    },
    "language_info": {
      "name": "python"
    },
    "accelerator": "GPU"
  },
  "cells": [
    {
      "cell_type": "markdown",
      "metadata": {
        "id": "view-in-github",
        "colab_type": "text"
      },
      "source": [
        "<a href=\"https://colab.research.google.com/github/AbyssGazer-Oliver/Machine-Learning/blob/main/lab9.ipynb\" target=\"_parent\"><img src=\"https://colab.research.google.com/assets/colab-badge.svg\" alt=\"Open In Colab\"/></a>"
      ]
    },
    {
      "cell_type": "code",
      "execution_count": null,
      "metadata": {
        "id": "bNC9CRdBAK70"
      },
      "outputs": [],
      "source": [
        "import tensorflow as tf"
      ]
    },
    {
      "cell_type": "code",
      "source": [
        "pip install flickrapi"
      ],
      "metadata": {
        "colab": {
          "base_uri": "https://localhost:8080/"
        },
        "id": "_kLugz09DPTy",
        "outputId": "751f96e6-ca1e-4544-e1ff-535efe563ae5"
      },
      "execution_count": null,
      "outputs": [
        {
          "output_type": "stream",
          "name": "stdout",
          "text": [
            "Collecting flickrapi\n",
            "  Downloading flickrapi-2.4.0-py2.py3-none-any.whl (26 kB)\n",
            "Requirement already satisfied: requests>=2.2.1 in /usr/local/lib/python3.7/dist-packages (from flickrapi) (2.23.0)\n",
            "Requirement already satisfied: requests-oauthlib>=0.4.0 in /usr/local/lib/python3.7/dist-packages (from flickrapi) (1.3.1)\n",
            "Requirement already satisfied: six>=1.5.2 in /usr/local/lib/python3.7/dist-packages (from flickrapi) (1.15.0)\n",
            "Collecting requests-toolbelt>=0.3.1\n",
            "  Downloading requests_toolbelt-0.9.1-py2.py3-none-any.whl (54 kB)\n",
            "\u001b[K     |████████████████████████████████| 54 kB 2.2 MB/s \n",
            "\u001b[?25hRequirement already satisfied: idna<3,>=2.5 in /usr/local/lib/python3.7/dist-packages (from requests>=2.2.1->flickrapi) (2.10)\n",
            "Requirement already satisfied: urllib3!=1.25.0,!=1.25.1,<1.26,>=1.21.1 in /usr/local/lib/python3.7/dist-packages (from requests>=2.2.1->flickrapi) (1.24.3)\n",
            "Requirement already satisfied: chardet<4,>=3.0.2 in /usr/local/lib/python3.7/dist-packages (from requests>=2.2.1->flickrapi) (3.0.4)\n",
            "Requirement already satisfied: certifi>=2017.4.17 in /usr/local/lib/python3.7/dist-packages (from requests>=2.2.1->flickrapi) (2021.10.8)\n",
            "Requirement already satisfied: oauthlib>=3.0.0 in /usr/local/lib/python3.7/dist-packages (from requests-oauthlib>=0.4.0->flickrapi) (3.2.0)\n",
            "Installing collected packages: requests-toolbelt, flickrapi\n",
            "Successfully installed flickrapi-2.4.0 requests-toolbelt-0.9.1\n"
          ]
        }
      ]
    },
    {
      "cell_type": "code",
      "source": [
        "import flickrapi\n",
        "import urllib.request\n",
        "import matplotlib.pyplot as plt\n",
        "import numpy as np\n",
        "import skimage.io\n",
        "import skimage.transform\n",
        "import requests\n",
        "from io import BytesIO\n",
        "%matplotlib inline"
      ],
      "metadata": {
        "id": "3ScijEy-DTvq"
      },
      "execution_count": null,
      "outputs": []
    },
    {
      "cell_type": "code",
      "source": [
        "api_key = u'49286b0b6f3b715fca25a3ebc2603504'\n",
        "api_secret = u'0cd8076077dd2ded'\n",
        "flickr = flickrapi.FlickrAPI(api_key, api_secret)"
      ],
      "metadata": {
        "id": "nhiKDw11EBL4"
      },
      "execution_count": null,
      "outputs": []
    },
    {
      "cell_type": "code",
      "source": [
        "car_keyword = 'car'\n",
        "bicycle_keyword = 'bicycle'\n",
        "car_photos = flickr.walk(text=car_keyword, tag_mode='all',\n",
        "                           tags=car_keyword,extras='url_c',\\\n",
        "                           sort='relevance',per_page=100)\n",
        "bicycle_photos=flickr.walk(text=bicycle_keyword, tag_mode='all',\n",
        "                           tags=bicycle_keyword,extras='url_c',\\\n",
        "                           sort='relevance',per_page=100)"
      ],
      "metadata": {
        "id": "Aj6ll4RWEggi"
      },
      "execution_count": null,
      "outputs": []
    },
    {
      "cell_type": "code",
      "source": [
        "def create_folder(dir_name):\n",
        "  import os\n",
        "  dir_exists = os.path.isdir(dir_name)\n",
        "  if not dir_exists:\n",
        "    os.mkdir(dir_name)\n",
        "    print(\"Making directory %s\" % dir_name)\n",
        "  else:\n",
        "    print(\"Will store images in directory %s\" % dir_name)\n",
        "create_folder('train')\n",
        "create_folder('test')\n",
        "create_folder('train/car')\n",
        "create_folder('train/bicycle')\n",
        "create_folder('test/car')\n",
        "create_folder('test/bicycle')\n"
      ],
      "metadata": {
        "colab": {
          "base_uri": "https://localhost:8080/"
        },
        "id": "PBlXrKnEFG3P",
        "outputId": "ca34684e-9e37-4c24-e49e-21c66ae9e406"
      },
      "execution_count": null,
      "outputs": [
        {
          "output_type": "stream",
          "name": "stdout",
          "text": [
            "Making directory train\n",
            "Making directory test\n",
            "Making directory train/car\n",
            "Making directory train/bicycle\n",
            "Making directory test/car\n",
            "Making directory test/bicycle\n"
          ]
        }
      ]
    },
    {
      "cell_type": "code",
      "source": [
        "import warnings\n",
        "def download_photo(photos,nimage,dir_name,keyword):\n",
        "  i = 0\n",
        "  nrow = 224\n",
        "  ncol = 224\n",
        "  for photo in photos:\n",
        "    url=photo.get('url_c')\n",
        "    if not (url is None):\n",
        "      \n",
        "      # Create a file from the URL\n",
        "      # This may only work in Python3\n",
        "      response = requests.get(url)\n",
        "      file = BytesIO(response.content)\n",
        "\n",
        "      # Read image from file\n",
        "      im = skimage.io.imread(file)\n",
        "\n",
        "      # Resize images\n",
        "      im1 = skimage.transform.resize(im,(nrow,ncol),mode='constant')\n",
        "\n",
        "      # Convert to uint8, suppress the warning about the precision loss\n",
        "      with warnings.catch_warnings():\n",
        "        warnings.simplefilter(\"ignore\")\n",
        "        im2 = skimage.img_as_ubyte(im1)\n",
        "\n",
        "      # Save the image\n",
        "      local_name = '{0:s}/{1:s}_{2:04d}.jpg'.format(dir_name,keyword, i)\n",
        "      skimage.io.imsave(local_name, im2)\n",
        "\n",
        "      i = i + 1\n",
        "    if (i >= nimage):\n",
        "      break"
      ],
      "metadata": {
        "id": "wY2iPoavFZxq"
      },
      "execution_count": null,
      "outputs": []
    },
    {
      "cell_type": "code",
      "source": [
        "download_photo(car_photos, 1000,'train/car','car')\n",
        "download_photo(bicycle_photos, 1000,'train/bicycle','bicycle')\n",
        "download_photo(car_photos, 300,'test/car','car')\n",
        "download_photo(bicycle_photos, 300,'test/bicycle','bicycle')"
      ],
      "metadata": {
        "id": "Tx97t-J7GL5J"
      },
      "execution_count": null,
      "outputs": []
    },
    {
      "cell_type": "code",
      "source": [
        "# TODO 1:\n",
        "from tensorflow.python.client import device_lib\n",
        "print(device_lib.list_local_devices())"
      ],
      "metadata": {
        "colab": {
          "base_uri": "https://localhost:8080/"
        },
        "id": "7FI1AXvNI9ix",
        "outputId": "57777ec6-4a29-4d85-e6b1-0c40f017a0fb"
      },
      "execution_count": null,
      "outputs": [
        {
          "output_type": "stream",
          "name": "stdout",
          "text": [
            "[name: \"/device:CPU:0\"\n",
            "device_type: \"CPU\"\n",
            "memory_limit: 268435456\n",
            "locality {\n",
            "}\n",
            "incarnation: 6665656004298808504\n",
            "xla_global_id: -1\n",
            ", name: \"/device:GPU:0\"\n",
            "device_type: \"GPU\"\n",
            "memory_limit: 11320098816\n",
            "locality {\n",
            "  bus_id: 1\n",
            "  links {\n",
            "  }\n",
            "}\n",
            "incarnation: 15498424970509627003\n",
            "physical_device_desc: \"device: 0, name: Tesla K80, pci bus id: 0000:00:04.0, compute capability: 3.7\"\n",
            "xla_global_id: 416903419\n",
            "]\n"
          ]
        }
      ]
    },
    {
      "cell_type": "code",
      "source": [
        "from tensorflow.keras import applications\n",
        "from tensorflow.keras.preprocessing.image import ImageDataGenerator\n",
        "from tensorflow.keras import optimizers\n",
        "from tensorflow.keras.models import Sequential\n",
        "from tensorflow.keras.layers import Dropout, Flatten, Dense"
      ],
      "metadata": {
        "id": "p7Ya2KlyLWvi"
      },
      "execution_count": null,
      "outputs": []
    },
    {
      "cell_type": "code",
      "source": [
        "import numpy as np\n",
        "import matplotlib.pyplot as plt"
      ],
      "metadata": {
        "id": "rLRhh0BwLfJv"
      },
      "execution_count": null,
      "outputs": []
    },
    {
      "cell_type": "code",
      "source": [
        "# TODO 2:\n",
        "import tensorflow.keras.backend as K\n",
        "K.clear_session()"
      ],
      "metadata": {
        "id": "aJPpv7jALsw2"
      },
      "execution_count": null,
      "outputs": []
    },
    {
      "cell_type": "code",
      "source": [
        "# TODO 3:  Set to smaller values if you are using a CPU.  \n",
        "# Otherwise, do not change this code.\n",
        "nrow = 150\n",
        "ncol = 150"
      ],
      "metadata": {
        "id": "CaQabvwnLx5w"
      },
      "execution_count": null,
      "outputs": []
    },
    {
      "cell_type": "code",
      "source": [
        "# TODO 4:  Load the VGG16 network\n",
        "pre_trained = 'vgg16'\n",
        "from tensorflow.keras.applications.xception import Xception\n",
        "from tensorflow.keras.applications.vgg16 import VGG16\n",
        "from tensorflow.keras.preprocessing import image\n",
        "# input_shape = ...\n",
        "# base_model = applications.VGG16(weights='imagenet', ...)\n",
        "from tensorflow.keras.applications.vgg16 import decode_predictions,preprocess_input\n",
        "base_model =VGG16(include_top=False,input_shape=(nrow,ncol,3),weights='imagenet')"
      ],
      "metadata": {
        "colab": {
          "base_uri": "https://localhost:8080/"
        },
        "id": "wZFuCIuHL5c1",
        "outputId": "25514ace-3fee-4d79-a13f-5a6952663c2c"
      },
      "execution_count": null,
      "outputs": [
        {
          "output_type": "stream",
          "name": "stdout",
          "text": [
            "Downloading data from https://storage.googleapis.com/tensorflow/keras-applications/vgg16/vgg16_weights_tf_dim_ordering_tf_kernels_notop.h5\n",
            "58892288/58889256 [==============================] - 0s 0us/step\n",
            "58900480/58889256 [==============================] - 0s 0us/step\n"
          ]
        }
      ]
    },
    {
      "cell_type": "code",
      "source": [
        "# Create a new model\n",
        "model = Sequential()\n",
        "# TODO 5: Loop over base_model.layers and add each layer to model\n",
        "for layer in base_model.layers:\n",
        "  model.add(layer)"
      ],
      "metadata": {
        "id": "RtyStA5pMY4Q"
      },
      "execution_count": null,
      "outputs": []
    },
    {
      "cell_type": "code",
      "source": [
        "# TODO 6\n",
        "for layer in model.layers:\n",
        "  layer.trainable=False"
      ],
      "metadata": {
        "id": "QhMYsu1fMj-m"
      },
      "execution_count": null,
      "outputs": []
    },
    {
      "cell_type": "code",
      "source": [
        "# TODO 7\n",
        "model.add(Flatten())\n",
        "model.add(Dense(256, activation = 'relu'))\n",
        "model.add(Dropout(0.5))\n",
        "model.add(Dense(1, activation = 'sigmoid'))"
      ],
      "metadata": {
        "id": "nsobpHIMMrx0"
      },
      "execution_count": null,
      "outputs": []
    },
    {
      "cell_type": "code",
      "source": [
        "# TODO 8\n",
        "model.summary()"
      ],
      "metadata": {
        "colab": {
          "base_uri": "https://localhost:8080/"
        },
        "id": "MaWIJ4zGMxjM",
        "outputId": "1141d9f0-f753-42d6-bd32-f3edeaf3422f"
      },
      "execution_count": null,
      "outputs": [
        {
          "output_type": "stream",
          "name": "stdout",
          "text": [
            "Model: \"sequential\"\n",
            "_________________________________________________________________\n",
            " Layer (type)                Output Shape              Param #   \n",
            "=================================================================\n",
            " block1_conv1 (Conv2D)       (None, 150, 150, 64)      1792      \n",
            "                                                                 \n",
            " block1_conv2 (Conv2D)       (None, 150, 150, 64)      36928     \n",
            "                                                                 \n",
            " block1_pool (MaxPooling2D)  (None, 75, 75, 64)        0         \n",
            "                                                                 \n",
            " block2_conv1 (Conv2D)       (None, 75, 75, 128)       73856     \n",
            "                                                                 \n",
            " block2_conv2 (Conv2D)       (None, 75, 75, 128)       147584    \n",
            "                                                                 \n",
            " block2_pool (MaxPooling2D)  (None, 37, 37, 128)       0         \n",
            "                                                                 \n",
            " block3_conv1 (Conv2D)       (None, 37, 37, 256)       295168    \n",
            "                                                                 \n",
            " block3_conv2 (Conv2D)       (None, 37, 37, 256)       590080    \n",
            "                                                                 \n",
            " block3_conv3 (Conv2D)       (None, 37, 37, 256)       590080    \n",
            "                                                                 \n",
            " block3_pool (MaxPooling2D)  (None, 18, 18, 256)       0         \n",
            "                                                                 \n",
            " block4_conv1 (Conv2D)       (None, 18, 18, 512)       1180160   \n",
            "                                                                 \n",
            " block4_conv2 (Conv2D)       (None, 18, 18, 512)       2359808   \n",
            "                                                                 \n",
            " block4_conv3 (Conv2D)       (None, 18, 18, 512)       2359808   \n",
            "                                                                 \n",
            " block4_pool (MaxPooling2D)  (None, 9, 9, 512)         0         \n",
            "                                                                 \n",
            " block5_conv1 (Conv2D)       (None, 9, 9, 512)         2359808   \n",
            "                                                                 \n",
            " block5_conv2 (Conv2D)       (None, 9, 9, 512)         2359808   \n",
            "                                                                 \n",
            " block5_conv3 (Conv2D)       (None, 9, 9, 512)         2359808   \n",
            "                                                                 \n",
            " block5_pool (MaxPooling2D)  (None, 4, 4, 512)         0         \n",
            "                                                                 \n",
            " flatten (Flatten)           (None, 8192)              0         \n",
            "                                                                 \n",
            " dense (Dense)               (None, 256)               2097408   \n",
            "                                                                 \n",
            " dropout (Dropout)           (None, 256)               0         \n",
            "                                                                 \n",
            " dense_1 (Dense)             (None, 1)                 257       \n",
            "                                                                 \n",
            "=================================================================\n",
            "Total params: 16,812,353\n",
            "Trainable params: 2,097,665\n",
            "Non-trainable params: 14,714,688\n",
            "_________________________________________________________________\n"
          ]
        }
      ]
    },
    {
      "cell_type": "code",
      "source": [
        "train_data_dir = './train'\n",
        "batch_size = 32\n",
        "train_datagen = ImageDataGenerator(rescale=1./255,\n",
        "                                   shear_range=0.2,\n",
        "                                   zoom_range=0.2,\n",
        "                                   horizontal_flip=True)\n",
        "train_generator = train_datagen.flow_from_directory(\n",
        "                        train_data_dir,\n",
        "                        target_size=(nrow,ncol),\n",
        "                        batch_size=batch_size,\n",
        "                        class_mode='binary')"
      ],
      "metadata": {
        "colab": {
          "base_uri": "https://localhost:8080/"
        },
        "id": "SLYKJxz2M43o",
        "outputId": "f7611815-d837-4637-fc10-361adf0e6d70"
      },
      "execution_count": null,
      "outputs": [
        {
          "output_type": "stream",
          "name": "stdout",
          "text": [
            "Found 2000 images belonging to 2 classes.\n"
          ]
        }
      ]
    },
    {
      "cell_type": "code",
      "source": [
        "# TODO 9\n",
        "test_data_dir = './test'\n",
        "batch_size = 32\n",
        "test_datagen = ImageDataGenerator(rescale=1./255,\n",
        "                                   shear_range=0.2,\n",
        "                                   zoom_range=0.2,\n",
        "                                   horizontal_flip=True)\n",
        "test_generator = train_datagen.flow_from_directory(\n",
        "                        test_data_dir,\n",
        "                        target_size=(nrow,ncol),\n",
        "                        batch_size=batch_size,\n",
        "                        class_mode='binary')"
      ],
      "metadata": {
        "colab": {
          "base_uri": "https://localhost:8080/"
        },
        "id": "gtMbrYaaNAac",
        "outputId": "2aa5cd4d-eda8-47a1-f2d4-c8737fad892f"
      },
      "execution_count": null,
      "outputs": [
        {
          "output_type": "stream",
          "name": "stdout",
          "text": [
            "Found 600 images belonging to 2 classes.\n"
          ]
        }
      ]
    },
    {
      "cell_type": "code",
      "source": [
        "# Display the image\n",
        "def disp_image(im,pos,title):\n",
        "  plt.subplot(1,8,pos)\n",
        "  plt.title('%d' % title)\n",
        "  if (len(im.shape) == 2):\n",
        "    # Gray scale image\n",
        "    plt.imshow(im, cmap='gray')\n",
        "  else:\n",
        "  # Color image.\n",
        "    im1 = (im-np.min(im))/(np.max(im)-np.min(im))*255\n",
        "    im1 = im1.astype(np.uint8)\n",
        "    plt.imshow(im1)\n",
        "  # Remove axis ticks\n",
        "  plt.xticks([])\n",
        "  plt.yticks([])\n"
      ],
      "metadata": {
        "id": "A0KmERe2NVGN"
      },
      "execution_count": null,
      "outputs": []
    },
    {
      "cell_type": "code",
      "source": [
        "# TODO 10\n",
        "mini_batch_x,mini_bach_y=train_generator.next()\n",
        "for i in range(8):\n",
        "  disp_image(mini_batch_x[i],i+1,mini_bach_y[i])"
      ],
      "metadata": {
        "colab": {
          "base_uri": "https://localhost:8080/",
          "height": 86
        },
        "id": "QN5x2QGaNZnn",
        "outputId": "0f39d543-9caf-4e06-dfb2-5ebf9149d599"
      },
      "execution_count": null,
      "outputs": [
        {
          "output_type": "display_data",
          "data": {
            "text/plain": [
              "<Figure size 432x288 with 8 Axes>"
            ],
            "image/png": "[encoded data removed]"
          },
          "metadata": {}
        }
      ]
    },
    {
      "cell_type": "code",
      "source": [
        "# TODO 11\n",
        "opt=optimizers.Adam(learning_rate=1e-3, decay=1e-4)\n",
        "hist=model.compile(loss='binary_crossentropy',optimizer=opt,metrics=['accuracy'])"
      ],
      "metadata": {
        "id": "cmIZkjutdXMG"
      },
      "execution_count": null,
      "outputs": []
    },
    {
      "cell_type": "code",
      "source": [
        "# TODO 12\n",
        "steps_per_epoch = train_generator.n//batch_size\n",
        "validation_steps = test_generator.n//batch_size"
      ],
      "metadata": {
        "id": "IbMgVEZ_d3mh"
      },
      "execution_count": null,
      "outputs": []
    },
    {
      "cell_type": "code",
      "source": [
        "nepochs = 5  # Number of epochs\n",
        "\n",
        "# Call the fit_generator function\n",
        "hist = model.fit_generator(\n",
        "    train_generator,\n",
        "    steps_per_epoch=steps_per_epoch,\n",
        "    epochs=nepochs,\n",
        "    validation_data=test_generator,\n",
        "    validation_steps=validation_steps)"
      ],
      "metadata": {
        "colab": {
          "base_uri": "https://localhost:8080/"
        },
        "id": "hXwP--_-d8Os",
        "outputId": "293c92e9-ded7-42cd-e3e9-3fded44f7b45"
      },
      "execution_count": null,
      "outputs": [
        {
          "output_type": "stream",
          "name": "stderr",
          "text": [
            "/usr/local/lib/python3.7/dist-packages/ipykernel_launcher.py:9: UserWarning: `Model.fit_generator` is deprecated and will be removed in a future version. Please use `Model.fit`, which supports generators.\n",
            "  if __name__ == '__main__':\n"
          ]
        },
        {
          "output_type": "stream",
          "name": "stdout",
          "text": [
            "Epoch 1/5\n",
            "62/62 [==============================] - 36s 365ms/step - loss: 0.2522 - accuracy: 0.9070 - val_loss: 0.1094 - val_accuracy: 0.9618\n",
            "Epoch 2/5\n",
            "62/62 [==============================] - 21s 341ms/step - loss: 0.0961 - accuracy: 0.9629 - val_loss: 0.0900 - val_accuracy: 0.9635\n",
            "Epoch 3/5\n",
            "62/62 [==============================] - 21s 340ms/step - loss: 0.0797 - accuracy: 0.9710 - val_loss: 0.0758 - val_accuracy: 0.9792\n",
            "Epoch 4/5\n",
            "62/62 [==============================] - 21s 340ms/step - loss: 0.0535 - accuracy: 0.9802 - val_loss: 0.0767 - val_accuracy: 0.9774\n",
            "Epoch 5/5\n",
            "62/62 [==============================] - 21s 341ms/step - loss: 0.0495 - accuracy: 0.9827 - val_loss: 0.0906 - val_accuracy: 0.9740\n"
          ]
        }
      ]
    },
    {
      "cell_type": "code",
      "source": [
        "# Plot the training accuracy and validation accuracy curves on the same figure.\n",
        "\n",
        "# TODO 13\n",
        "print(hist)\n",
        "acc=hist.history['accuracy']\n",
        "val_acc=hist.history['val_accuracy']\n",
        "plt.plot(acc,'-',linewidth=3)\n",
        "plt.plot(val_acc,'-',linewidth=3)\n",
        "plt.legend(['accuracy','val_accuracy'])"
      ],
      "metadata": {
        "colab": {
          "base_uri": "https://localhost:8080/",
          "height": 302
        },
        "id": "gycwzL2JfEoi",
        "outputId": "e92db95e-1e00-402e-db98-706aa29d666d"
      },
      "execution_count": null,
      "outputs": [
        {
          "output_type": "stream",
          "name": "stdout",
          "text": [
            "<keras.callbacks.History object at 0x7f4a9007d410>\n"
          ]
        },
        {
          "output_type": "execute_result",
          "data": {
            "text/plain": [
              "<matplotlib.legend.Legend at 0x7f4a8fccb0d0>"
            ]
          },
          "metadata": {},
          "execution_count": 60
        },
        {
          "output_type": "display_data",
          "data": {
            "text/plain": [
              "<Figure size 432x288 with 1 Axes>"
            ],
            "image/png": "[encoded data removed]"
          },
          "metadata": {
            "needs_background": "light"
          }
        }
      ]
    },
    {
      "cell_type": "code",
      "source": [
        "# TODO 14\n",
        "Xts,yts=test_generator.next()\n",
        "y_hat=model.predict(Xts)\n",
        "bool_err=(np.abs(y_hat - yts[:,None])>0.1).flatten()\n",
        "err_pics = Xts[bool_err]\n",
        "err_prediction = y_hat[bool_err]\n",
        "print(err_pics.shape)\n",
        "for i in range(err_pics.shape[0]):\n",
        "  disp_image(err_pics[i],i+1,err_prediction[i])"
      ],
      "metadata": {
        "colab": {
          "base_uri": "https://localhost:8080/",
          "height": 104
        },
        "id": "GSt37ycrfQjV",
        "outputId": "2ac1e0f8-6ba6-493c-a1f6-cfdfa711cd36"
      },
      "execution_count": null,
      "outputs": [
        {
          "output_type": "stream",
          "name": "stdout",
          "text": [
            "(1, 150, 150, 3)\n"
          ]
        },
        {
          "output_type": "display_data",
          "data": {
            "text/plain": [
              "<Figure size 432x288 with 1 Axes>"
            ],
            "image/png": "[encoded data removed]"
          },
          "metadata": {}
        }
      ]
    }
  ]
}
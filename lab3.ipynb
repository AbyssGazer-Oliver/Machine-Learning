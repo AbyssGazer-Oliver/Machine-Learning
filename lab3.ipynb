{
  "nbformat": 4,
  "nbformat_minor": 0,
  "metadata": {
    "colab": {
      "name": "lab3.ipynb",
      "provenance": [],
      "collapsed_sections": [],
      "authorship_tag": "ABX9TyM7+g0Qd1Knq96JncF70GEf",
      "include_colab_link": true
    },
    "kernelspec": {
      "name": "python3",
      "display_name": "Python 3"
    },
    "language_info": {
      "name": "python"
    },
    "widgets": {
      "application/vnd.jupyter.widget-state+json": {
        "728e780300974abd86acb020968694c5": {
          "model_module": "@jupyter-widgets/controls",
          "model_name": "HBoxModel",
          "model_module_version": "1.5.0",
          "state": {
            "_view_name": "HBoxView",
            "_dom_classes": [],
            "_model_name": "HBoxModel",
            "_view_module": "@jupyter-widgets/controls",
            "_model_module_version": "1.5.0",
            "_view_count": null,
            "_view_module_version": "1.5.0",
            "box_style": "",
            "layout": "IPY_MODEL_3feb8842d78c4c548e65bcb671bb4419",
            "_model_module": "@jupyter-widgets/controls",
            "children": [
              "IPY_MODEL_7676f359ca2d429083d7c8ff64f28b5d",
              "IPY_MODEL_647b3378548449bf8829e7874f3d34a8",
              "IPY_MODEL_56d4dc09882f42b3bdb34c3ef7b9fb01"
            ]
          }
        },
        "3feb8842d78c4c548e65bcb671bb4419": {
          "model_module": "@jupyter-widgets/base",
          "model_name": "LayoutModel",
          "model_module_version": "1.2.0",
          "state": {
            "_view_name": "LayoutView",
            "grid_template_rows": null,
            "right": null,
            "justify_content": null,
            "_view_module": "@jupyter-widgets/base",
            "overflow": null,
            "_model_module_version": "1.2.0",
            "_view_count": null,
            "flex_flow": null,
            "width": null,
            "min_width": null,
            "border": null,
            "align_items": null,
            "bottom": null,
            "_model_module": "@jupyter-widgets/base",
            "top": null,
            "grid_column": null,
            "overflow_y": null,
            "overflow_x": null,
            "grid_auto_flow": null,
            "grid_area": null,
            "grid_template_columns": null,
            "flex": null,
            "_model_name": "LayoutModel",
            "justify_items": null,
            "grid_row": null,
            "max_height": null,
            "align_content": null,
            "visibility": null,
            "align_self": null,
            "height": null,
            "min_height": null,
            "padding": null,
            "grid_auto_rows": null,
            "grid_gap": null,
            "max_width": null,
            "order": null,
            "_view_module_version": "1.2.0",
            "grid_template_areas": null,
            "object_position": null,
            "object_fit": null,
            "grid_auto_columns": null,
            "margin": null,
            "display": null,
            "left": null
          }
        },
        "7676f359ca2d429083d7c8ff64f28b5d": {
          "model_module": "@jupyter-widgets/controls",
          "model_name": "HTMLModel",
          "model_module_version": "1.5.0",
          "state": {
            "_view_name": "HTMLView",
            "style": "IPY_MODEL_a1310c25240a4a4987c8ab1478581721",
            "_dom_classes": [],
            "description": "",
            "_model_name": "HTMLModel",
            "placeholder": "​",
            "_view_module": "@jupyter-widgets/controls",
            "_model_module_version": "1.5.0",
            "value": "Model order test: 100%",
            "_view_count": null,
            "_view_module_version": "1.5.0",
            "description_tooltip": null,
            "_model_module": "@jupyter-widgets/controls",
            "layout": "IPY_MODEL_d0e2299d417f4f2ba2a0fb992d03a303"
          }
        },
        "647b3378548449bf8829e7874f3d34a8": {
          "model_module": "@jupyter-widgets/controls",
          "model_name": "FloatProgressModel",
          "model_module_version": "1.5.0",
          "state": {
            "_view_name": "ProgressView",
            "style": "IPY_MODEL_7226d25684ab4e2e9944468067aa4830",
            "_dom_classes": [],
            "description": "",
            "_model_name": "FloatProgressModel",
            "bar_style": "success",
            "max": 75,
            "_view_module": "@jupyter-widgets/controls",
            "_model_module_version": "1.5.0",
            "value": 75,
            "_view_count": null,
            "_view_module_version": "1.5.0",
            "orientation": "horizontal",
            "min": 0,
            "description_tooltip": null,
            "_model_module": "@jupyter-widgets/controls",
            "layout": "IPY_MODEL_a7e326683faa4db9b13e204aed443452"
          }
        },
        "56d4dc09882f42b3bdb34c3ef7b9fb01": {
          "model_module": "@jupyter-widgets/controls",
          "model_name": "HTMLModel",
          "model_module_version": "1.5.0",
          "state": {
            "_view_name": "HTMLView",
            "style": "IPY_MODEL_7a18a42bf14c4f368d5a04e2ca0bb8cc",
            "_dom_classes": [],
            "description": "",
            "_model_name": "HTMLModel",
            "placeholder": "​",
            "_view_module": "@jupyter-widgets/controls",
            "_model_module_version": "1.5.0",
            "value": " 75/75 [00:25&lt;00:00,  1.47fits/s]",
            "_view_count": null,
            "_view_module_version": "1.5.0",
            "description_tooltip": null,
            "_model_module": "@jupyter-widgets/controls",
            "layout": "IPY_MODEL_9a2cea285e5a4fed9dbfb69d29f60893"
          }
        },
        "a1310c25240a4a4987c8ab1478581721": {
          "model_module": "@jupyter-widgets/controls",
          "model_name": "DescriptionStyleModel",
          "model_module_version": "1.5.0",
          "state": {
            "_view_name": "StyleView",
            "_model_name": "DescriptionStyleModel",
            "description_width": "",
            "_view_module": "@jupyter-widgets/base",
            "_model_module_version": "1.5.0",
            "_view_count": null,
            "_view_module_version": "1.2.0",
            "_model_module": "@jupyter-widgets/controls"
          }
        },
        "d0e2299d417f4f2ba2a0fb992d03a303": {
          "model_module": "@jupyter-widgets/base",
          "model_name": "LayoutModel",
          "model_module_version": "1.2.0",
          "state": {
            "_view_name": "LayoutView",
            "grid_template_rows": null,
            "right": null,
            "justify_content": null,
            "_view_module": "@jupyter-widgets/base",
            "overflow": null,
            "_model_module_version": "1.2.0",
            "_view_count": null,
            "flex_flow": null,
            "width": null,
            "min_width": null,
            "border": null,
            "align_items": null,
            "bottom": null,
            "_model_module": "@jupyter-widgets/base",
            "top": null,
            "grid_column": null,
            "overflow_y": null,
            "overflow_x": null,
            "grid_auto_flow": null,
            "grid_area": null,
            "grid_template_columns": null,
            "flex": null,
            "_model_name": "LayoutModel",
            "justify_items": null,
            "grid_row": null,
            "max_height": null,
            "align_content": null,
            "visibility": null,
            "align_self": null,
            "height": null,
            "min_height": null,
            "padding": null,
            "grid_auto_rows": null,
            "grid_gap": null,
            "max_width": null,
            "order": null,
            "_view_module_version": "1.2.0",
            "grid_template_areas": null,
            "object_position": null,
            "object_fit": null,
            "grid_auto_columns": null,
            "margin": null,
            "display": null,
            "left": null
          }
        },
        "7226d25684ab4e2e9944468067aa4830": {
          "model_module": "@jupyter-widgets/controls",
          "model_name": "ProgressStyleModel",
          "model_module_version": "1.5.0",
          "state": {
            "_view_name": "StyleView",
            "_model_name": "ProgressStyleModel",
            "description_width": "",
            "_view_module": "@jupyter-widgets/base",
            "_model_module_version": "1.5.0",
            "_view_count": null,
            "_view_module_version": "1.2.0",
            "bar_color": null,
            "_model_module": "@jupyter-widgets/controls"
          }
        },
        "a7e326683faa4db9b13e204aed443452": {
          "model_module": "@jupyter-widgets/base",
          "model_name": "LayoutModel",
          "model_module_version": "1.2.0",
          "state": {
            "_view_name": "LayoutView",
            "grid_template_rows": null,
            "right": null,
            "justify_content": null,
            "_view_module": "@jupyter-widgets/base",
            "overflow": null,
            "_model_module_version": "1.2.0",
            "_view_count": null,
            "flex_flow": null,
            "width": null,
            "min_width": null,
            "border": null,
            "align_items": null,
            "bottom": null,
            "_model_module": "@jupyter-widgets/base",
            "top": null,
            "grid_column": null,
            "overflow_y": null,
            "overflow_x": null,
            "grid_auto_flow": null,
            "grid_area": null,
            "grid_template_columns": null,
            "flex": null,
            "_model_name": "LayoutModel",
            "justify_items": null,
            "grid_row": null,
            "max_height": null,
            "align_content": null,
            "visibility": null,
            "align_self": null,
            "height": null,
            "min_height": null,
            "padding": null,
            "grid_auto_rows": null,
            "grid_gap": null,
            "max_width": null,
            "order": null,
            "_view_module_version": "1.2.0",
            "grid_template_areas": null,
            "object_position": null,
            "object_fit": null,
            "grid_auto_columns": null,
            "margin": null,
            "display": null,
            "left": null
          }
        },
        "7a18a42bf14c4f368d5a04e2ca0bb8cc": {
          "model_module": "@jupyter-widgets/controls",
          "model_name": "DescriptionStyleModel",
          "model_module_version": "1.5.0",
          "state": {
            "_view_name": "StyleView",
            "_model_name": "DescriptionStyleModel",
            "description_width": "",
            "_view_module": "@jupyter-widgets/base",
            "_model_module_version": "1.5.0",
            "_view_count": null,
            "_view_module_version": "1.2.0",
            "_model_module": "@jupyter-widgets/controls"
          }
        },
        "9a2cea285e5a4fed9dbfb69d29f60893": {
          "model_module": "@jupyter-widgets/base",
          "model_name": "LayoutModel",
          "model_module_version": "1.2.0",
          "state": {
            "_view_name": "LayoutView",
            "grid_template_rows": null,
            "right": null,
            "justify_content": null,
            "_view_module": "@jupyter-widgets/base",
            "overflow": null,
            "_model_module_version": "1.2.0",
            "_view_count": null,
            "flex_flow": null,
            "width": null,
            "min_width": null,
            "border": null,
            "align_items": null,
            "bottom": null,
            "_model_module": "@jupyter-widgets/base",
            "top": null,
            "grid_column": null,
            "overflow_y": null,
            "overflow_x": null,
            "grid_auto_flow": null,
            "grid_area": null,
            "grid_template_columns": null,
            "flex": null,
            "_model_name": "LayoutModel",
            "justify_items": null,
            "grid_row": null,
            "max_height": null,
            "align_content": null,
            "visibility": null,
            "align_self": null,
            "height": null,
            "min_height": null,
            "padding": null,
            "grid_auto_rows": null,
            "grid_gap": null,
            "max_width": null,
            "order": null,
            "_view_module_version": "1.2.0",
            "grid_template_areas": null,
            "object_position": null,
            "object_fit": null,
            "grid_auto_columns": null,
            "margin": null,
            "display": null,
            "left": null
          }
        }
      }
    }
  },
  "cells": [
    {
      "cell_type": "markdown",
      "metadata": {
        "id": "view-in-github",
        "colab_type": "text"
      },
      "source": [
        "<a href=\"https://colab.research.google.com/github/AbyssGazer-Oliver/Machine-Learning/blob/main/lab3.ipynb\" target=\"_parent\"><img src=\"https://colab.research.google.com/assets/colab-badge.svg\" alt=\"Open In Colab\"/></a>"
      ]
    },
    {
      "cell_type": "code",
      "execution_count": null,
      "metadata": {
        "id": "kwrEsf_837lD"
      },
      "outputs": [],
      "source": [
        "import numpy as np\n",
        "import matplotlib.pyplot as plt\n",
        "import pickle\n",
        "\n",
        "from sklearn.linear_model import LinearRegression\n",
        "from sklearn.metrics import r2_score"
      ]
    },
    {
      "cell_type": "code",
      "source": [
        "fn_src = 'https://www.dropbox.com/sh/n4924ipcfjqc0t6/AADOv9JYMUBK1tlg9P71gSSra/example_data_s1.pickle?dl=1'\n",
        "fn_dst = 'example_data_s1.pickle'\n",
        "\n",
        "import os\n",
        "from six.moves import urllib\n",
        "\n",
        "if os.path.isfile(fn_dst):\n",
        "    print('File %s is already downloaded' % fn_dst)\n",
        "else:        \n",
        "    urllib.request.urlretrieve(fn_src, fn_dst)"
      ],
      "metadata": {
        "colab": {
          "base_uri": "https://localhost:8080/"
        },
        "id": "43Rf5kVL6Gym",
        "outputId": "3a8c2c84-d9e6-46b6-a23d-ae45d9f921d8"
      },
      "execution_count": null,
      "outputs": [
        {
          "output_type": "stream",
          "name": "stdout",
          "text": [
            "File example_data_s1.pickle is already downloaded\n"
          ]
        }
      ]
    },
    {
      "cell_type": "code",
      "source": [
        "with open('example_data_s1.pickle', 'rb') as fp:\n",
        "    X,y = pickle.load(fp)"
      ],
      "metadata": {
        "id": "icUkrs9P6Oyu"
      },
      "execution_count": null,
      "outputs": []
    },
    {
      "cell_type": "code",
      "source": [
        "tsamp = 0.05  # sampling time in seconds\n",
        "\n",
        "# TODO 1\n",
        "nt = X.shape[0]\n",
        "nneuron = X.shape[1]\n",
        "nout = y.shape[1]\n",
        "ttotal = y.shape[0]*tsamp\n",
        "print(\"nt =\",nt)\n",
        "print(\"nneuron =\", nneuron)\n",
        "print(\"nout =\", nout)\n",
        "print(\"ttotal =\", ttotal)"
      ],
      "metadata": {
        "colab": {
          "base_uri": "https://localhost:8080/"
        },
        "id": "4s1O9v-16XY5",
        "outputId": "01e941b8-e248-45d4-ab93-2afe23d1fc8f"
      },
      "execution_count": null,
      "outputs": [
        {
          "output_type": "stream",
          "name": "stdout",
          "text": [
            "nt = 61339\n",
            "nneuron = 52\n",
            "nout = 2\n",
            "ttotal = 3066.9500000000003\n"
          ]
        }
      ]
    },
    {
      "cell_type": "code",
      "source": [
        "from sklearn.model_selection import train_test_split\n",
        "\n",
        "# TODO 2\n",
        "Xtr, Xts, ytr, yts = train_test_split(X, y, test_size=1/3)"
      ],
      "metadata": {
        "id": "mMRamKJm8WIm"
      },
      "execution_count": null,
      "outputs": []
    },
    {
      "cell_type": "code",
      "source": [
        "# TODO 3\n",
        "regre=LinearRegression()\n",
        "regre.fit(Xtr,ytr)\n",
        "yhat = regre.predict(Xts)\n",
        "rsq = r2_score(yts,yhat)\n",
        "print(\"rsq =\",rsq)"
      ],
      "metadata": {
        "colab": {
          "base_uri": "https://localhost:8080/"
        },
        "id": "GcEIcmYQ9JPh",
        "outputId": "95c1ac0b-e35c-4589-d9ef-0c10dd5f67bc"
      },
      "execution_count": null,
      "outputs": [
        {
          "output_type": "stream",
          "name": "stdout",
          "text": [
            "rsq = 0.46800926637818235\n"
          ]
        }
      ]
    },
    {
      "cell_type": "code",
      "source": [
        "# TODO 4\n",
        "plt.figure(figsize=(10,5))\n",
        "plt.subplot(1,2,1)\n",
        "plt.scatter(yhat[:,0],yts[:,0])\n",
        "plt.xlabel('predicted value1')\n",
        "plt.ylabel('true value1')\n",
        "plt.show()\n",
        "\n",
        "plt.figure(figsize=(10,5))\n",
        "plt.subplot(1,2,2)\n",
        "plt.scatter(yhat[:,1],yts[:,1])\n",
        "plt.xlabel('predicted value2')\n",
        "plt.ylabel('true value2')\n",
        "plt.show()"
      ],
      "metadata": {
        "colab": {
          "base_uri": "https://localhost:8080/",
          "height": 651
        },
        "id": "0akoRD5o9_YJ",
        "outputId": "5abd1834-a3c6-4df0-f38d-c7ae972dec18"
      },
      "execution_count": null,
      "outputs": [
        {
          "output_type": "display_data",
          "data": {
            "image/png": "[encoded data removed]",
            "text/plain": [
              "<Figure size 720x360 with 1 Axes>"
            ]
          },
          "metadata": {
            "needs_background": "light"
          }
        },
        {
          "output_type": "display_data",
          "data": {
            "image/png": "[encoded data removed]",
            "text/plain": [
              "<Figure size 720x360 with 1 Axes>"
            ]
          },
          "metadata": {
            "needs_background": "light"
          }
        }
      ]
    },
    {
      "cell_type": "code",
      "source": [
        "def create_dly_data(X,y,dly):\n",
        "    \"\"\"\n",
        "    Create delayed data\n",
        "    \"\"\"    \n",
        "    # TODO 5\n",
        "    n=X.shape[0]\n",
        "    p=X.shape[1]\n",
        "    s=y.shape[1]\n",
        "    Xdly = np.empty([n-dly,(dly+1)*p])\n",
        "    ydly = np.empty([n-dly,s])\n",
        "    for i in range(len(X)-dly):\n",
        "      temp=np.array([])\n",
        "      for j in range(dly+1):\n",
        "        temp=np.concatenate((temp,X[i+j,:]))\n",
        "      Xdly[i,:]=temp\n",
        "      ydly[i,:]=y[i+dly,:]\n",
        "    return Xdly, ydly"
      ],
      "metadata": {
        "id": "X47WjIC9AEry"
      },
      "execution_count": null,
      "outputs": []
    },
    {
      "cell_type": "code",
      "source": [
        "# TODO 6\n",
        "Xdly,ydly=create_dly_data(X,y,dly=6)\n",
        "Xtrdly, Xtsdly, ytrdly, ytsdly = train_test_split(Xdly, ydly, test_size=1/3)\n",
        "regre.fit(Xtrdly,ytrdly)\n",
        "yhatdly=regre.predict(Xtsdly)\n",
        "rsqdly=r2_score(ytsdly,yhatdly)\n",
        "print(\"new rsq=\",rsqdly)"
      ],
      "metadata": {
        "colab": {
          "base_uri": "https://localhost:8080/"
        },
        "id": "0pl2LxDBDkDt",
        "outputId": "749fe049-abf9-41a6-9c11-31ab59bf2d60"
      },
      "execution_count": null,
      "outputs": [
        {
          "output_type": "stream",
          "name": "stdout",
          "text": [
            "new rsq= 0.6932712947699684\n"
          ]
        }
      ]
    },
    {
      "cell_type": "code",
      "source": [
        "# TODO 7\n",
        "plt.figure(figsize=(10,5))\n",
        "plt.subplot(1,2,1)\n",
        "plt.scatter(yhatdly[:,0],ytsdly[:,0])\n",
        "plt.xlabel('predicted value1')\n",
        "plt.ylabel('true value1')\n",
        "plt.show()\n",
        "\n",
        "plt.figure(figsize=(10,5))\n",
        "plt.subplot(1,2,2)\n",
        "plt.scatter(yhatdly[:,1],ytsdly[:,1])\n",
        "plt.xlabel('predicted value2')\n",
        "plt.ylabel('true value2')\n",
        "plt.show()"
      ],
      "metadata": {
        "colab": {
          "base_uri": "https://localhost:8080/",
          "height": 651
        },
        "id": "FlZLv9OSGKOm",
        "outputId": "c88fe048-96ec-4c8c-8368-a33a956b4913"
      },
      "execution_count": null,
      "outputs": [
        {
          "output_type": "display_data",
          "data": {
            "image/png": "[encoded data removed]",
            "text/plain": [
              "<Figure size 720x360 with 1 Axes>"
            ]
          },
          "metadata": {
            "needs_background": "light"
          }
        },
        {
          "output_type": "display_data",
          "data": {
            "image/png": "[encoded data removed]",
            "text/plain": [
              "<Figure size 720x360 with 1 Axes>"
            ]
          },
          "metadata": {
            "needs_background": "light"
          }
        }
      ]
    },
    {
      "cell_type": "code",
      "source": [
        "nred = 6000\n",
        "\n",
        "# TODO 8\n",
        "Xred = X[:nred,:]\n",
        "yred = y[:nred,:]"
      ],
      "metadata": {
        "id": "3cjI9YCdHb95"
      },
      "execution_count": null,
      "outputs": []
    },
    {
      "cell_type": "code",
      "source": [
        "import  sklearn.model_selection \n",
        "import tqdm.notebook\n",
        "\n",
        "nfold = 5  # Number of folds\n",
        "dmax = 15  # maximum number of delays\n",
        "\n",
        "# TODO 9:  Create a k-fold object\n",
        "kf = sklearn.model_selection.KFold(n_splits=nfold, shuffle=True, random_state=23)\n",
        "\n",
        "# TODO 10:  Model orders to be tested\n",
        "dtest = np.arange(0,dmax)  \n",
        "nd = len(dtest)\n",
        "\n",
        "# TODO 11.  \n",
        "# Initialize a matrix Rsq to hold values of the R^2 across the model orders and folds.\n",
        "# Alternatively, you can also create an RSS matrix\n",
        "Rsq=np.zeros((nd,nfold))\n",
        "\n",
        "# Create a progress bar.  Note there are nd*nfold total fits.\n",
        "pbar = tqdm.notebook.tqdm(\n",
        "    total=nfold*nd, initial=0,\n",
        "    unit='fits', unit_divisor=nd, desc='Model order test')\n",
        "\n",
        "\n",
        "for it, d in enumerate(dtest):\n",
        "    # TODO 12:  \n",
        "    # Create the delayed data using the create_dly_function from the reduced\n",
        "    # data Xred, yred\n",
        "    Xdly, ydly = create_dly_data(Xred,yred,dmax)    \n",
        "        \n",
        "    # Loop over the folds\n",
        "    for isplit, Ind in enumerate(kf.split(Xdly)):\n",
        "\n",
        "        # Get the training data in the split\n",
        "        Itr, Its = Ind        \n",
        "\n",
        "        # TODO 13\n",
        "        # Split the data (Xdly,ydly) into training and test\n",
        "        Xdly = Xdly[:,-(d+1)*X.shape[1]:]\n",
        "        Xtr = Xdly[Itr]\n",
        "        ytr = ydly[Itr]\n",
        "        Xts = Xdly[Its]\n",
        "        yts = ydly[Its]\n",
        "        \n",
        "        # TODO 14:  Fit data on training data        \n",
        "        regre.fit(Xtr,ytr)\n",
        "        # TODO 15:  Measure the R^2 vale on test data and store in the matrix Rsq\n",
        "        yhatdly=regre.predict(Xts)\n",
        "        rsqdly=r2_score(yts,yhatdly)\n",
        "        Rsq[it,isplit]=rsqdly\n",
        "        pbar.update(1)\n",
        "pbar.close()\n"
      ],
      "metadata": {
        "colab": {
          "base_uri": "https://localhost:8080/",
          "height": 49,
          "referenced_widgets": [
            "728e780300974abd86acb020968694c5",
            "3feb8842d78c4c548e65bcb671bb4419",
            "7676f359ca2d429083d7c8ff64f28b5d",
            "647b3378548449bf8829e7874f3d34a8",
            "56d4dc09882f42b3bdb34c3ef7b9fb01",
            "a1310c25240a4a4987c8ab1478581721",
            "d0e2299d417f4f2ba2a0fb992d03a303",
            "7226d25684ab4e2e9944468067aa4830",
            "a7e326683faa4db9b13e204aed443452",
            "7a18a42bf14c4f368d5a04e2ca0bb8cc",
            "9a2cea285e5a4fed9dbfb69d29f60893"
          ]
        },
        "id": "nBQvB6GaIaF6",
        "outputId": "9b2114f4-34b8-46e5-c6c7-1fb8d76df9f4"
      },
      "execution_count": null,
      "outputs": [
        {
          "output_type": "display_data",
          "data": {
            "application/vnd.jupyter.widget-view+json": {
              "model_id": "728e780300974abd86acb020968694c5",
              "version_minor": 0,
              "version_major": 2
            },
            "text/plain": [
              "Model order test:   0%|          | 0/75 [00:00<?, ?fits/s]"
            ]
          },
          "metadata": {}
        }
      ]
    },
    {
      "cell_type": "code",
      "source": [
        "# TODO 16\n",
        "rsq_mean=np.mean(Rsq,axis=1)\n",
        "rsq_std=np.std(Rsq,axis=1)*np.sqrt(nfold)/np.sqrt(nfold-1)\n",
        "plt.errorbar(dtest, rsq_mean, yerr=rsq_std, fmt='-')\n",
        "plt.xlabel('Model order')\n",
        "plt.ylabel('Test R^2')\n",
        "plt.grid()"
      ],
      "metadata": {
        "colab": {
          "base_uri": "https://localhost:8080/",
          "height": 279
        },
        "id": "0L75JVzNMTvh",
        "outputId": "1439a32b-3a9d-4f7f-b699-7ec2c074c36f"
      },
      "execution_count": null,
      "outputs": [
        {
          "output_type": "display_data",
          "data": {
            "image/png": "[encoded data removed]",
            "text/plain": [
              "<Figure size 432x288 with 1 Axes>"
            ]
          },
          "metadata": {
            "needs_background": "light"
          }
        }
      ]
    },
    {
      "cell_type": "code",
      "source": [
        "# TODO 17\n",
        "imax=np.argmax(rsq_mean)\n",
        "print(\"the optimal order d is \",format(dtest[imax]))"
      ],
      "metadata": {
        "colab": {
          "base_uri": "https://localhost:8080/"
        },
        "id": "18DzA6uKS2tt",
        "outputId": "c20cd931-798a-497c-fdc5-a63d0ea607b2"
      },
      "execution_count": null,
      "outputs": [
        {
          "output_type": "stream",
          "name": "stdout",
          "text": [
            "the optimal order d is  8\n"
          ]
        }
      ]
    },
    {
      "cell_type": "code",
      "source": [
        "# TODO 18\n",
        "rsq_tgt = rsq_mean[imax] - rsq_std[imax]\n",
        "# Find the lowest model order below the target\n",
        "I = np.where(rsq_mean >= rsq_tgt)[0]\n",
        "iopt = I[0]\n",
        "dopt = dtest[iopt]\n",
        "\n",
        "plt.errorbar(dtest, rsq_mean, yerr=rsq_std, fmt='-')\n",
        "\n",
        "# Plot the line at the RSS target\n",
        "plt.plot([dtest[0],dtest[imax]], [rsq_tgt, rsq_tgt], '--')\n",
        "\n",
        "# Plot the line at the optimal model order\n",
        "plt.plot([dopt,dopt], [0,0.5], 'g--')\n",
        "\n",
        "plt.ylim(0,1.5)\n",
        "plt.xlabel('Model order')\n",
        "plt.ylabel('Test RSS')\n",
        "plt.grid()\n",
        "\n",
        "# Print results\n",
        "print(\"The estimated model order is %d\" % dopt)"
      ],
      "metadata": {
        "colab": {
          "base_uri": "https://localhost:8080/",
          "height": 297
        },
        "id": "HwvEPQLKT7H4",
        "outputId": "7dd8c946-f425-4ff7-dc10-927550ee6ce6"
      },
      "execution_count": null,
      "outputs": [
        {
          "output_type": "stream",
          "name": "stdout",
          "text": [
            "The estimated model order is 6\n"
          ]
        },
        {
          "output_type": "display_data",
          "data": {
            "image/png": "[encoded data removed]",
            "text/plain": [
              "<Figure size 432x288 with 1 Axes>"
            ]
          },
          "metadata": {
            "needs_background": "light"
          }
        }
      ]
    },
    {
      "cell_type": "code",
      "source": [
        "x=np.linspace(0,1,10)\n",
        "y=1+2*x-x**2\n",
        "xm=np.mean(x)\n",
        "ym=np.mean(y)\n",
        "syx=np.mean((y-ym)*(x-xm))\n",
        "sxx=np.mean((x-xm)**2)\n",
        "beta1=syx/sxx\n",
        "beta0=ym-beta1*xm\n",
        "x1=np.linspace(0,3,10)\n",
        "yhat=beta0+beta1*x1\n",
        "y=1+2*x1-x1**2\n",
        "plt.plot(x,y,color='green',linestyle='solid')\n",
        "plt.plot(x,yhat,color='red',linestyle='solid')\n",
        "bias=\n",
        "print(bias)"
      ],
      "metadata": {
        "colab": {
          "base_uri": "https://localhost:8080/",
          "height": 320
        },
        "id": "MvFFf5UOm5mz",
        "outputId": "3adc1ca0-8c9f-4edd-ac7f-88b8cf6ea4d5"
      },
      "execution_count": null,
      "outputs": [
        {
          "output_type": "stream",
          "name": "stdout",
          "text": [
            "[2.19478738e-02 5.48696845e-03 5.48696845e-03 2.19478738e-02\n",
            " 3.51165981e-01 1.58573388e+00 4.61454047e+00 1.06227709e+01\n",
            " 2.10919067e+01 3.77997257e+01]\n"
          ]
        },
        {
          "output_type": "display_data",
          "data": {
            "image/png": "[encoded data removed]",
            "text/plain": [
              "<Figure size 432x288 with 1 Axes>"
            ]
          },
          "metadata": {
            "needs_background": "light"
          }
        }
      ]
    }
  ]
}
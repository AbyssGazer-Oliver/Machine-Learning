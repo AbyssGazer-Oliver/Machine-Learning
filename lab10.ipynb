{
  "nbformat": 4,
  "nbformat_minor": 0,
  "metadata": {
    "colab": {
      "name": "lab10.ipynb",
      "provenance": [],
      "authorship_tag": "ABX9TyPBoxLe5ctRZ/BQ7EO0pCFo",
      "include_colab_link": true
    },
    "kernelspec": {
      "name": "python3",
      "display_name": "Python 3"
    },
    "language_info": {
      "name": "python"
    }
  },
  "cells": [
    {
      "cell_type": "markdown",
      "metadata": {
        "id": "view-in-github",
        "colab_type": "text"
      },
      "source": [
        "<a href=\"https://colab.research.google.com/github/AbyssGazer-Oliver/Machine-Learning/blob/main/lab10.ipynb\" target=\"_parent\"><img src=\"https://colab.research.google.com/assets/colab-badge.svg\" alt=\"Open In Colab\"/></a>"
      ]
    },
    {
      "cell_type": "code",
      "execution_count": 88,
      "metadata": {
        "colab": {
          "base_uri": "https://localhost:8080/"
        },
        "id": "zwGq5D03rZsV",
        "outputId": "9e94b19a-601a-477c-8f78-eb09efd98c90"
      },
      "outputs": [
        {
          "output_type": "stream",
          "name": "stdout",
          "text": [
            "Requirement already satisfied: scikit-optimize==0.5.1 in /usr/local/lib/python3.7/dist-packages (0.5.1)\n",
            "Requirement already satisfied: scipy>=0.14.0 in /usr/local/lib/python3.7/dist-packages (from scikit-optimize==0.5.1) (1.4.1)\n",
            "Requirement already satisfied: scikit-learn>=0.19.1 in /usr/local/lib/python3.7/dist-packages (from scikit-optimize==0.5.1) (0.22.2)\n",
            "Requirement already satisfied: numpy in /usr/local/lib/python3.7/dist-packages (from scikit-optimize==0.5.1) (1.21.6)\n",
            "Requirement already satisfied: matplotlib in /usr/local/lib/python3.7/dist-packages (from scikit-optimize==0.5.1) (3.2.2)\n",
            "Requirement already satisfied: joblib>=0.11 in /usr/local/lib/python3.7/dist-packages (from scikit-learn>=0.19.1->scikit-optimize==0.5.1) (1.1.0)\n",
            "Requirement already satisfied: kiwisolver>=1.0.1 in /usr/local/lib/python3.7/dist-packages (from matplotlib->scikit-optimize==0.5.1) (1.4.2)\n",
            "Requirement already satisfied: python-dateutil>=2.1 in /usr/local/lib/python3.7/dist-packages (from matplotlib->scikit-optimize==0.5.1) (2.8.2)\n",
            "Requirement already satisfied: pyparsing!=2.0.4,!=2.1.2,!=2.1.6,>=2.0.1 in /usr/local/lib/python3.7/dist-packages (from matplotlib->scikit-optimize==0.5.1) (3.0.8)\n",
            "Requirement already satisfied: cycler>=0.10 in /usr/local/lib/python3.7/dist-packages (from matplotlib->scikit-optimize==0.5.1) (0.11.0)\n",
            "Requirement already satisfied: typing-extensions in /usr/local/lib/python3.7/dist-packages (from kiwisolver>=1.0.1->matplotlib->scikit-optimize==0.5.1) (4.1.1)\n",
            "Requirement already satisfied: six>=1.5 in /usr/local/lib/python3.7/dist-packages (from python-dateutil>=2.1->matplotlib->scikit-optimize==0.5.1) (1.15.0)\n",
            "Requirement already satisfied: scikit-learn==0.22.2 in /usr/local/lib/python3.7/dist-packages (0.22.2)\n",
            "Requirement already satisfied: numpy>=1.11.0 in /usr/local/lib/python3.7/dist-packages (from scikit-learn==0.22.2) (1.21.6)\n",
            "Requirement already satisfied: scipy>=0.17.0 in /usr/local/lib/python3.7/dist-packages (from scikit-learn==0.22.2) (1.4.1)\n",
            "Requirement already satisfied: joblib>=0.11 in /usr/local/lib/python3.7/dist-packages (from scikit-learn==0.22.2) (1.1.0)\n"
          ]
        }
      ],
      "source": [
        "!pip install --upgrade scikit-optimize==0.5.1\n",
        "!pip install scikit-learn==0.22.2\n",
        "import numpy as np\n",
        "import matplotlib\n",
        "import matplotlib.pyplot as plt"
      ]
    },
    {
      "cell_type": "code",
      "source": [
        "from sklearn.datasets import load_wine\n",
        "from sklearn.model_selection import KFold\n",
        "data = load_wine()\n",
        "\n",
        "# TODO 1: print the features names in data.feature_names and data.target_names\n",
        "print(data.feature_names)\n",
        "print(data.target_names)"
      ],
      "metadata": {
        "colab": {
          "base_uri": "https://localhost:8080/"
        },
        "id": "tSosvhFRrfUc",
        "outputId": "3ebcaec2-1ecc-4a81-b7ce-3ecfec7d8120"
      },
      "execution_count": 89,
      "outputs": [
        {
          "output_type": "stream",
          "name": "stdout",
          "text": [
            "['alcohol', 'malic_acid', 'ash', 'alcalinity_of_ash', 'magnesium', 'total_phenols', 'flavanoids', 'nonflavanoid_phenols', 'proanthocyanins', 'color_intensity', 'hue', 'od280/od315_of_diluted_wines', 'proline']\n",
            "['class_0' 'class_1' 'class_2']\n"
          ]
        }
      ]
    },
    {
      "cell_type": "code",
      "source": [
        "# TODO 2:\n",
        "X = data.data\n",
        "y = data.target\n",
        "print(\"The number of samples:\",X.shape[0])\n",
        "print(\"The number of features:\",X.shape[1])\n",
        "print(\"The number of classes:\",len(np.unique(y)))"
      ],
      "metadata": {
        "colab": {
          "base_uri": "https://localhost:8080/"
        },
        "id": "v-tLxvdxrj1M",
        "outputId": "c9073e5c-91a7-436b-a05a-315f49284957"
      },
      "execution_count": 90,
      "outputs": [
        {
          "output_type": "stream",
          "name": "stdout",
          "text": [
            "The number of samples: 178\n",
            "The number of features: 13\n",
            "The number of classes: 3\n"
          ]
        }
      ]
    },
    {
      "cell_type": "code",
      "source": [
        "from sklearn.preprocessing import StandardScaler\n",
        "\n",
        "# TODO 3:\n",
        "scaling = StandardScaler()\n",
        "scaling.fit(X)\n",
        "Xs = scaling.transform(X)"
      ],
      "metadata": {
        "id": "iJaRgIoEwKg0"
      },
      "execution_count": 91,
      "outputs": []
    },
    {
      "cell_type": "code",
      "source": [
        "from sklearn.decomposition import PCA\n",
        "\n",
        "# TODO 4:\n",
        "ncomp = 2\n",
        "pca = PCA(n_components=ncomp,svd_solver='randomized',whiten=True)\n",
        "pca.fit(Xs)\n",
        "Z = pca.transform(Xs)\n",
        "\n",
        "\n",
        "# Construct the PCA object"
      ],
      "metadata": {
        "id": "sU2g8clJweO3"
      },
      "execution_count": 92,
      "outputs": []
    },
    {
      "cell_type": "code",
      "source": [
        "# TODO 5:\n",
        "plt.scatter(Z[:,0],Z[:,1],c=y)"
      ],
      "metadata": {
        "colab": {
          "base_uri": "https://localhost:8080/",
          "height": 283
        },
        "id": "FhDZHbLNw9PE",
        "outputId": "16ea1cb2-888c-4a8e-b912-9a1cc69b842d"
      },
      "execution_count": 93,
      "outputs": [
        {
          "output_type": "execute_result",
          "data": {
            "text/plain": [
              "<matplotlib.collections.PathCollection at 0x7fba88525f90>"
            ]
          },
          "metadata": {},
          "execution_count": 93
        },
        {
          "output_type": "display_data",
          "data": {
            "text/plain": [
              "<Figure size 432x288 with 1 Axes>"
            ],
            "image/png": "[encoded data removed]"
          },
          "metadata": {
            "needs_background": "light"
          }
        }
      ]
    },
    {
      "cell_type": "code",
      "source": [
        "# TODO 6:\n",
        "nfeatures=X.shape[1]\n",
        "pca=PCA(n_components=nfeatures,svd_solver='randomized',whiten=True)\n",
        "pca.fit(Xs)\n",
        "s=pca.singular_values_**2\n",
        "pov=np.cumsum(s)/np.sum(s)\n",
        "pc_num=np.arange(1,nfeatures+1)\n",
        "plt.plot(pc_num,pov)\n",
        "plt.xlabel('The Number of PC')\n",
        "plt.ylabel('PoV')\n",
        "plt.grid()"
      ],
      "metadata": {
        "colab": {
          "base_uri": "https://localhost:8080/",
          "height": 279
        },
        "id": "B9NYGlCPxZ70",
        "outputId": "e08de109-2cca-4fea-a9ba-67718871a0ef"
      },
      "execution_count": 94,
      "outputs": [
        {
          "output_type": "display_data",
          "data": {
            "text/plain": [
              "<Figure size 432x288 with 1 Axes>"
            ],
            "image/png": "[encoded data removed]"
          },
          "metadata": {
            "needs_background": "light"
          }
        }
      ]
    },
    {
      "cell_type": "code",
      "source": [
        "from sklearn.preprocessing import StandardScaler\n",
        "from sklearn.linear_model import LogisticRegression\n",
        "nfold = 5\n",
        "\n",
        "# Create a K-fold object\n",
        "kf = KFold(n_splits=nfold)\n",
        "kf.get_n_splits(X)\n",
        "\n",
        "# Number of PCs to try\n",
        "ncomp_test = np.arange(2,12)\n",
        "num_nc = len(ncomp_test)\n",
        "\n",
        "# Accuracy:  acc[icomp,ifold]  is test accuracy when using `ncomp = ncomp_test[icomp]` in fold `ifold`.\n",
        "acc = np.zeros((num_nc,nfold))\n",
        "\n",
        "\n",
        "# ==============\n",
        "# TODO 7:(combined all)\n",
        "\n",
        "# Loop over number of components to test\n",
        "for icomp, ncomp in enumerate(ncomp_test):\n",
        "    \n",
        "    # Look over the folds\n",
        "    for ifold, I in enumerate(kf.split(X)):\n",
        "        Itr, Its = I\n",
        "\n",
        "        # TODO:  Split data into training \n",
        "        Xtr=X[Itr]\n",
        "        Xts=X[Its]\n",
        "        ytr=y[Itr]\n",
        "        yts=y[Its] \n",
        "\n",
        "        # TODO:  Create a scaling object and fit the scaling on the training data\n",
        "        scaling = StandardScaler()\n",
        "        scaling.fit(Xtr)\n",
        "        Xs = scaling.transform(Xtr)\n",
        "        # TODO:  Fit the PCA on the scaled training data\n",
        "        pca = PCA(n_components=ncomp,svd_solver='randomized',whiten=True)\n",
        "        pca.fit(Xs)\n",
        "        Z = pca.transform(Xs)\n",
        "        # TODO:  Train a classifier on the transformed training data\n",
        "        # Use a logistic regression classifier\n",
        "        #   logreg = LogisticRegression(multi_class='auto', solver='lbfgs')\n",
        "        logreg = LogisticRegression(multi_class='auto', solver='lbfgs')\n",
        "        logreg.fit(Z,ytr)\n",
        "        # TODO:  Transform the test data through data scaler and PCA\n",
        "        Xts_=scaling.transform(Xts)\n",
        "        Zts=pca.transform(Xts_)\n",
        "        # TODO:  Predict the labels the test data\n",
        "        yhat=logreg.predict(Zts)\n",
        "        # TODO:  Measure the accuracy \n",
        "        acc[icomp, ifold] = np.mean(yhat==yts)"
      ],
      "metadata": {
        "id": "ISIw49rdyqKi"
      },
      "execution_count": 95,
      "outputs": []
    },
    {
      "cell_type": "code",
      "source": [
        "# TODO 8: (Combined all)\n",
        "acc_mean = np.mean(acc,axis=1)\n",
        "acc_se = np.std(acc,axis=1)/np.sqrt(nfold-1)\n",
        "plt.errorbar(ncomp_test,acc_mean,yerr=acc_se)\n",
        "plt.xlabel('The Number of PC')\n",
        "plt.ylabel('Test Accuracy')\n",
        "plt.grid()\n",
        "# TODO:  Optimal order with the normal rule\n",
        "Im=np.argmax(acc_mean)\n",
        "print(\"The Optimal order with the normal rule is %d\" %(ncomp_test[Im]))\n",
        "print(\"The test accuracy is\",acc_mean[Im])\n",
        "\n",
        "# TODO:  Optimal order with one SE rule\n",
        "acc_tgt=acc_mean[Im]-acc_se[Im]\n",
        "I=np.where(acc_mean>=acc_tgt)[0]\n",
        "ise=I[0]\n",
        "print(\"The Optimal order with the normal rule is %d\" %(ncomp_test[ise]))\n",
        "print(\"The test accuracy is\",acc_mean[ise])"
      ],
      "metadata": {
        "colab": {
          "base_uri": "https://localhost:8080/",
          "height": 352
        },
        "id": "tIwIRUoR0m6b",
        "outputId": "8e985846-fd9d-4936-c883-a790e6ba07ff"
      },
      "execution_count": 96,
      "outputs": [
        {
          "output_type": "stream",
          "name": "stdout",
          "text": [
            "The Optimal order with the normal rule is 11\n",
            "The test accuracy is 0.9553968253968254\n",
            "The Optimal order with the normal rule is 7\n",
            "The test accuracy is 0.9495238095238095\n"
          ]
        },
        {
          "output_type": "display_data",
          "data": {
            "text/plain": [
              "<Figure size 432x288 with 1 Axes>"
            ],
            "image/png": "[encoded data removed]"
          },
          "metadata": {
            "needs_background": "light"
          }
        }
      ]
    },
    {
      "cell_type": "code",
      "source": [
        "from sklearn.pipeline import Pipeline\n",
        "from sklearn.model_selection import GridSearchCV\n",
        "from sklearn.svm import SVC\n",
        "\n",
        "# TODO 9:\n",
        "scaler = StandardScaler()\n",
        "pca = PCA()\n",
        "svc = SVC(kernel='rbf')\n",
        "pipe = Pipeline(steps=[('scaler', scaler), ('pca', pca), ('svc', svc)])"
      ],
      "metadata": {
        "id": "BKYmjENx1EVi"
      },
      "execution_count": 97,
      "outputs": []
    },
    {
      "cell_type": "code",
      "source": [
        "# TODO 10:\n",
        "ncomp_test = np.arange(3,11)\n",
        "c_test =  np.logspace(-2,3,6)\n",
        "gam_test = np.logspace(-3,1,5)"
      ],
      "metadata": {
        "id": "sodcLVJT2yok"
      },
      "execution_count": 98,
      "outputs": []
    },
    {
      "cell_type": "code",
      "source": [
        "# TODO 11:\n",
        "params = {'pca__n_components': ncomp_test,'svc__C' : c_test,'svc__gamma': gam_test}"
      ],
      "metadata": {
        "id": "EkSF97bQ3Ovb"
      },
      "execution_count": 99,
      "outputs": []
    },
    {
      "cell_type": "code",
      "source": [
        "# TODO 12:\n",
        "estimator = GridSearchCV(pipe,cv=5,return_train_score=True,param_grid=params)\n",
        "estimator.fit(X,y)"
      ],
      "metadata": {
        "colab": {
          "base_uri": "https://localhost:8080/"
        },
        "id": "UdiDKIYb3dXm",
        "outputId": "762924e7-e8f1-4ad9-cf41-85eb3a8164fd"
      },
      "execution_count": 101,
      "outputs": [
        {
          "output_type": "execute_result",
          "data": {
            "text/plain": [
              "GridSearchCV(cv=5,\n",
              "             estimator=Pipeline(steps=[('scaler', StandardScaler()),\n",
              "                                       ('pca', PCA()), ('svc', SVC())]),\n",
              "             param_grid={'pca__n_components': array([ 3,  4,  5,  6,  7,  8,  9, 10]),\n",
              "                         'svc__C': array([1.e-02, 1.e-01, 1.e+00, 1.e+01, 1.e+02, 1.e+03]),\n",
              "                         'svc__gamma': array([1.e-03, 1.e-02, 1.e-01, 1.e+00, 1.e+01])},\n",
              "             return_train_score=True)"
            ]
          },
          "metadata": {},
          "execution_count": 101
        }
      ]
    },
    {
      "cell_type": "code",
      "source": [
        "# TODO 13:\n",
        "print(\"The best test accuracy is\",estimator.best_score_)\n",
        "print('The best parameter is: %s' %str(estimator.best_params_))"
      ],
      "metadata": {
        "colab": {
          "base_uri": "https://localhost:8080/"
        },
        "id": "tvmDT3bS74af",
        "outputId": "e0826597-d7fd-438b-8009-91f1e562f94c"
      },
      "execution_count": 103,
      "outputs": [
        {
          "output_type": "stream",
          "name": "stdout",
          "text": [
            "The best test accuracy is 0.9777777777777779\n",
            "The best parameter is: {'pca__n_components': 5, 'svc__C': 1.0, 'svc__gamma': 0.1}\n"
          ]
        }
      ]
    },
    {
      "cell_type": "code",
      "source": [
        "# TODO 14:\n",
        "test_score=estimator.cv_results_['mean_test_score']\n",
        "pc_num=len(ncomp_test)\n",
        "c_num= len(c_test)\n",
        "gam_num = len(gam_test)\n",
        "test_score = test_score.reshape((pc_num, c_num, gam_num))\n",
        "i=np.where(ncomp_test==5)[0][0]\n",
        "plt.imshow(test_score[i,:,:],aspect='auto',cmap='Reds')\n",
        "plt.xlabel('gamma')\n",
        "plt.ylabel('C')\n",
        "plt.colorbar()\n",
        "ax=plt.gca()\n",
        "ax.set_yticks(np.arange(0,c_num))\n",
        "ax.set_yticklabels(c_test)\n",
        "ax.set_xticks(np.arange(0,gam_num))\n",
        "_=ax.set_xticklabels(gam_test)\n"
      ],
      "metadata": {
        "colab": {
          "base_uri": "https://localhost:8080/",
          "height": 279
        },
        "id": "6SFVjRY-8QG1",
        "outputId": "de02a981-60fe-414e-9412-9a8cf5e45d16"
      },
      "execution_count": 105,
      "outputs": [
        {
          "output_type": "display_data",
          "data": {
            "text/plain": [
              "<Figure size 432x288 with 2 Axes>"
            ],
            "image/png": "[encoded data removed]"
          },
          "metadata": {
            "needs_background": "light"
          }
        }
      ]
    }
  ]
}
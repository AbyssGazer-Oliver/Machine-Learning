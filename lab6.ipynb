{
  "cells": [
    {
      "cell_type": "markdown",
      "metadata": {
        "id": "view-in-github",
        "colab_type": "text"
      },
      "source": [
        "<a href=\"https://colab.research.google.com/github/AbyssGazer-Oliver/Machine-Learning/blob/main/lab6.ipynb\" target=\"_parent\"><img src=\"https://colab.research.google.com/assets/colab-badge.svg\" alt=\"Open In Colab\"/></a>"
      ]
    },
    {
      "cell_type": "code",
      "execution_count": null,
      "metadata": {
        "id": "J75TWBtytFH-"
      },
      "outputs": [],
      "source": [
        "import pandas as pd\n",
        "import numpy as np\n",
        "import matplotlib.pyplot as plt\n",
        "from sklearn.linear_model import Ridge, LinearRegression"
      ]
    },
    {
      "cell_type": "code",
      "execution_count": null,
      "metadata": {
        "colab": {
          "base_uri": "https://localhost:8080/",
          "height": 206
        },
        "id": "680bbS-UtOuS",
        "outputId": "7b527b91-a8ed-4af4-b118-4c0c82350d8c"
      },
      "outputs": [
        {
          "output_type": "execute_result",
          "data": {
            "text/plain": [
              "      y0     x0  dummy\n",
              "0  0.591  24.41    NaN\n",
              "1  1.547  34.82    NaN\n",
              "2  2.902  44.09    NaN\n",
              "3  2.894  45.07    NaN\n",
              "4  4.703  54.98    NaN"
            ],
            "text/html": [
              "\n",
              "  <div id=\"df-096b314c-051d-4ed4-a138-d54de87b86cb\">\n",
              "    <div class=\"colab-df-container\">\n",
              "      <div>\n",
              "<style scoped>\n",
              "    .dataframe tbody tr th:only-of-type {\n",
              "        vertical-align: middle;\n",
              "    }\n",
              "\n",
              "    .dataframe tbody tr th {\n",
              "        vertical-align: top;\n",
              "    }\n",
              "\n",
              "    .dataframe thead th {\n",
              "        text-align: right;\n",
              "    }\n",
              "</style>\n",
              "<table border=\"1\" class=\"dataframe\">\n",
              "  <thead>\n",
              "    <tr style=\"text-align: right;\">\n",
              "      <th></th>\n",
              "      <th>y0</th>\n",
              "      <th>x0</th>\n",
              "      <th>dummy</th>\n",
              "    </tr>\n",
              "  </thead>\n",
              "  <tbody>\n",
              "    <tr>\n",
              "      <th>0</th>\n",
              "      <td>0.591</td>\n",
              "      <td>24.41</td>\n",
              "      <td>NaN</td>\n",
              "    </tr>\n",
              "    <tr>\n",
              "      <th>1</th>\n",
              "      <td>1.547</td>\n",
              "      <td>34.82</td>\n",
              "      <td>NaN</td>\n",
              "    </tr>\n",
              "    <tr>\n",
              "      <th>2</th>\n",
              "      <td>2.902</td>\n",
              "      <td>44.09</td>\n",
              "      <td>NaN</td>\n",
              "    </tr>\n",
              "    <tr>\n",
              "      <th>3</th>\n",
              "      <td>2.894</td>\n",
              "      <td>45.07</td>\n",
              "      <td>NaN</td>\n",
              "    </tr>\n",
              "    <tr>\n",
              "      <th>4</th>\n",
              "      <td>4.703</td>\n",
              "      <td>54.98</td>\n",
              "      <td>NaN</td>\n",
              "    </tr>\n",
              "  </tbody>\n",
              "</table>\n",
              "</div>\n",
              "      <button class=\"colab-df-convert\" onclick=\"convertToInteractive('df-096b314c-051d-4ed4-a138-d54de87b86cb')\"\n",
              "              title=\"Convert this dataframe to an interactive table.\"\n",
              "              style=\"display:none;\">\n",
              "        \n",
              "  <svg xmlns=\"http://www.w3.org/2000/svg\" height=\"24px\"viewBox=\"0 0 24 24\"\n",
              "       width=\"24px\">\n",
              "    <path d=\"M0 0h24v24H0V0z\" fill=\"none\"/>\n",
              "    <path d=\"M18.56 5.44l.94 2.06.94-2.06 2.06-.94-2.06-.94-.94-2.06-.94 2.06-2.06.94zm-11 1L8.5 8.5l.94-2.06 2.06-.94-2.06-.94L8.5 2.5l-.94 2.06-2.06.94zm10 10l.94 2.06.94-2.06 2.06-.94-2.06-.94-.94-2.06-.94 2.06-2.06.94z\"/><path d=\"M17.41 7.96l-1.37-1.37c-.4-.4-.92-.59-1.43-.59-.52 0-1.04.2-1.43.59L10.3 9.45l-7.72 7.72c-.78.78-.78 2.05 0 2.83L4 21.41c.39.39.9.59 1.41.59.51 0 1.02-.2 1.41-.59l7.78-7.78 2.81-2.81c.8-.78.8-2.07 0-2.86zM5.41 20L4 18.59l7.72-7.72 1.47 1.35L5.41 20z\"/>\n",
              "  </svg>\n",
              "      </button>\n",
              "      \n",
              "  <style>\n",
              "    .colab-df-container {\n",
              "      display:flex;\n",
              "      flex-wrap:wrap;\n",
              "      gap: 12px;\n",
              "    }\n",
              "\n",
              "    .colab-df-convert {\n",
              "      background-color: #E8F0FE;\n",
              "      border: none;\n",
              "      border-radius: 50%;\n",
              "      cursor: pointer;\n",
              "      display: none;\n",
              "      fill: #1967D2;\n",
              "      height: 32px;\n",
              "      padding: 0 0 0 0;\n",
              "      width: 32px;\n",
              "    }\n",
              "\n",
              "    .colab-df-convert:hover {\n",
              "      background-color: #E2EBFA;\n",
              "      box-shadow: 0px 1px 2px rgba(60, 64, 67, 0.3), 0px 1px 3px 1px rgba(60, 64, 67, 0.15);\n",
              "      fill: #174EA6;\n",
              "    }\n",
              "\n",
              "    [theme=dark] .colab-df-convert {\n",
              "      background-color: #3B4455;\n",
              "      fill: #D2E3FC;\n",
              "    }\n",
              "\n",
              "    [theme=dark] .colab-df-convert:hover {\n",
              "      background-color: #434B5C;\n",
              "      box-shadow: 0px 1px 3px 1px rgba(0, 0, 0, 0.15);\n",
              "      filter: drop-shadow(0px 1px 2px rgba(0, 0, 0, 0.3));\n",
              "      fill: #FFFFFF;\n",
              "    }\n",
              "  </style>\n",
              "\n",
              "      <script>\n",
              "        const buttonEl =\n",
              "          document.querySelector('#df-096b314c-051d-4ed4-a138-d54de87b86cb button.colab-df-convert');\n",
              "        buttonEl.style.display =\n",
              "          google.colab.kernel.accessAllowed ? 'block' : 'none';\n",
              "\n",
              "        async function convertToInteractive(key) {\n",
              "          const element = document.querySelector('#df-096b314c-051d-4ed4-a138-d54de87b86cb');\n",
              "          const dataTable =\n",
              "            await google.colab.kernel.invokeFunction('convertToInteractive',\n",
              "                                                     [key], {});\n",
              "          if (!dataTable) return;\n",
              "\n",
              "          const docLinkHtml = 'Like what you see? Visit the ' +\n",
              "            '<a target=\"_blank\" href=https://colab.research.google.com/notebooks/data_table.ipynb>data table notebook</a>'\n",
              "            + ' to learn more about interactive tables.';\n",
              "          element.innerHTML = '';\n",
              "          dataTable['output_type'] = 'display_data';\n",
              "          await google.colab.output.renderOutput(dataTable, element);\n",
              "          const docLink = document.createElement('div');\n",
              "          docLink.innerHTML = docLinkHtml;\n",
              "          element.appendChild(docLink);\n",
              "        }\n",
              "      </script>\n",
              "    </div>\n",
              "  </div>\n",
              "  "
            ]
          },
          "metadata": {},
          "execution_count": 2
        }
      ],
      "source": [
        "url = 'https://itl.nist.gov/div898/strd/nls/data/LINKS/DATA/Hahn1.dat'\n",
        "df = pd.read_csv(url, skiprows=60, sep=' ',skipinitialspace=True, names=['y0','x0','dummy'])\n",
        "df.head()"
      ]
    },
    {
      "cell_type": "code",
      "execution_count": null,
      "metadata": {
        "colab": {
          "base_uri": "https://localhost:8080/",
          "height": 283
        },
        "id": "citBXcGBtSCA",
        "outputId": "1c326c8b-7406-453c-a5f7-c6c37feb591d"
      },
      "outputs": [
        {
          "output_type": "execute_result",
          "data": {
            "text/plain": [
              "[<matplotlib.lines.Line2D at 0x7f3f437bc850>]"
            ]
          },
          "metadata": {},
          "execution_count": 3
        },
        {
          "output_type": "display_data",
          "data": {
            "text/plain": [
              "<Figure size 432x288 with 1 Axes>"
            ],
            "image/png": "[encoded data removed]"
          },
          "metadata": {
            "needs_background": "light"
          }
        }
      ],
      "source": [
        "# TODO 1\n",
        "x0 = df['x0']\n",
        "y0 = df['y0']\n",
        "x = x0/np.max(x0)\n",
        "y = y0/np.max(y0)\n",
        "plt.plot(x,y,'*')"
      ]
    },
    {
      "cell_type": "code",
      "execution_count": null,
      "metadata": {
        "colab": {
          "base_uri": "https://localhost:8080/",
          "height": 283
        },
        "id": "Ed6pOXa_uDeo",
        "outputId": "0b5480b0-8407-4eea-9b40-8faf60c0c413"
      },
      "outputs": [
        {
          "output_type": "execute_result",
          "data": {
            "text/plain": [
              "[<matplotlib.lines.Line2D at 0x7f3f432f54d0>]"
            ]
          },
          "metadata": {},
          "execution_count": 4
        },
        {
          "output_type": "display_data",
          "data": {
            "text/plain": [
              "<Figure size 432x288 with 1 Axes>"
            ],
            "image/png": "[encoded data removed]"
          },
          "metadata": {
            "needs_background": "light"
          }
        }
      ],
      "source": [
        "# TODO 2\n",
        "yn = y + np.random.normal(0,0.02,len(y0))\n",
        "plt.plot(x,yn,'*')"
      ]
    },
    {
      "cell_type": "code",
      "execution_count": null,
      "metadata": {
        "id": "5OwOaM7WuocG"
      },
      "outputs": [],
      "source": [
        "from sklearn.model_selection import train_test_split\n",
        "\n",
        "# TODO 3\n",
        "xtr, xts, ytr, yts = train_test_split(x,yn,test_size=0.33)\n"
      ]
    },
    {
      "cell_type": "code",
      "execution_count": null,
      "metadata": {
        "id": "M3aSmF8yuzyq"
      },
      "outputs": [],
      "source": [
        "def predict(w,x):\n",
        "    \n",
        "    # Get the length\n",
        "    d = (len(w)-1)//2\n",
        "    \n",
        "    # TODO 4.  Extract a and b from w\n",
        "    a = w[:d+1]\n",
        "    b = w[d+1:]\n",
        "    \n",
        "    # TODO 5.  Compute yhat.  You may use the np.polyval function\n",
        "    # But, remember you must flip the order the a and b\n",
        "    a_flip=a[::-1]\n",
        "    b_flip=b[::-1]\n",
        "    yhat = np.polyval(a_flip,x)/(1+np.polyval(b_flip,x)*x)\n",
        "    return yhat"
      ]
    },
    {
      "cell_type": "code",
      "execution_count": null,
      "metadata": {
        "colab": {
          "base_uri": "https://localhost:8080/"
        },
        "id": "5gU3TXPNwPWu",
        "outputId": "e398bb92-2f4a-42ff-bfbf-490679d8e62f"
      },
      "outputs": [
        {
          "output_type": "stream",
          "name": "stderr",
          "text": [
            "/usr/local/lib/python3.7/dist-packages/ipykernel_launcher.py:5: FutureWarning: Support for multi-dimensional indexing (e.g. `obj[:, None]`) is deprecated and will be removed in a future version.  Convert to a numpy array before indexing instead.\n",
            "  \"\"\"\n",
            "/usr/local/lib/python3.7/dist-packages/ipykernel_launcher.py:6: FutureWarning: Support for multi-dimensional indexing (e.g. `obj[:, None]`) is deprecated and will be removed in a future version.  Convert to a numpy array before indexing instead.\n",
            "  \n"
          ]
        }
      ],
      "source": [
        "d = 3\n",
        "\n",
        "# TODO 6.  Create the transformed feature matrix\n",
        "pw=np.arange(1,d+1)\n",
        "Za=xtr[:,None]**pw[None,:]\n",
        "Zb=Za*(-ytr[:,None])\n",
        "Z = np.hstack((Za,Zb))\n",
        "\n",
        "# TODO 7.  Fit with parameters with linear regression\n",
        "regr = LinearRegression()\n",
        "regr.fit(Z,ytr)\n",
        "\n",
        "# TODO 8\n",
        "# Extract the parameters from regr.coef_ and regr.intercept_ and store the parameter vector in winit\n",
        "winit = np.hstack((regr.intercept_,regr.coef_))"
      ]
    },
    {
      "cell_type": "code",
      "execution_count": null,
      "metadata": {
        "colab": {
          "base_uri": "https://localhost:8080/",
          "height": 297
        },
        "id": "UnGn5Jtby9r5",
        "outputId": "483f22f5-829f-4bd9-9c4e-60c62ccab4cb"
      },
      "outputs": [
        {
          "output_type": "execute_result",
          "data": {
            "text/plain": [
              "Text(0, 0.5, 'y')"
            ]
          },
          "metadata": {},
          "execution_count": 8
        },
        {
          "output_type": "display_data",
          "data": {
            "text/plain": [
              "<Figure size 432x288 with 1 Axes>"
            ],
            "image/png": "[encoded data removed]"
          },
          "metadata": {
            "needs_background": "light"
          }
        }
      ],
      "source": [
        "# TODO 9\n",
        "xp = np.linspace(0,1,1000)\n",
        "yhat = predict(winit,xp)\n",
        "plt.plot(xp,yhat)\n",
        "plt.plot(xts,yts,'*')\n",
        "plt.legend(['yhat','yts'])\n",
        "plt.xlabel('x')\n",
        "plt.ylabel('y')"
      ]
    },
    {
      "cell_type": "code",
      "execution_count": null,
      "metadata": {
        "colab": {
          "base_uri": "https://localhost:8080/",
          "height": 297
        },
        "id": "ZpSioKx_z0tg",
        "outputId": "202fbca3-ad52-4e17-ba0a-5b00a77c7619"
      },
      "outputs": [
        {
          "output_type": "execute_result",
          "data": {
            "text/plain": [
              "Text(0, 0.5, 'y')"
            ]
          },
          "metadata": {},
          "execution_count": 9
        },
        {
          "output_type": "display_data",
          "data": {
            "text/plain": [
              "<Figure size 432x288 with 1 Axes>"
            ],
            "image/png": "[encoded data removed]"
          },
          "metadata": {
            "needs_background": "light"
          }
        }
      ],
      "source": [
        "# TODO 10.  Fit with parameters with linear regression\n",
        "regr = Ridge(alpha=1e-3)\n",
        "regr.fit(Z,ytr)\n",
        "\n",
        "# TODO 11\n",
        "# Extract the parameters from regr.coef_ and regr.intercept_\n",
        "winit = np.hstack((regr.intercept_,regr.coef_))\n",
        "\n",
        "# TODO 12\n",
        "# Plot the results as above.\n",
        "xp = np.linspace(0,1,1000)\n",
        "yhat = predict(winit,xp)\n",
        "plt.plot(xp,yhat)\n",
        "plt.plot(xts,yts,'*')\n",
        "plt.legend(['yhat','yts'])\n",
        "plt.xlabel('x')\n",
        "plt.ylabel('y')"
      ]
    },
    {
      "cell_type": "code",
      "execution_count": null,
      "metadata": {
        "id": "L3AVJaQI2c24"
      },
      "outputs": [],
      "source": [
        "def feval(w,x,y):\n",
        "        \n",
        "    \n",
        "    # TODO 13.  Parse w\n",
        "    d = (len(w)-1)//2\n",
        "    \n",
        "    # Extract a and b from w\n",
        "    a = w[:d+1]\n",
        "    b = w[d+1:]\n",
        "    \n",
        "    # TODO 14.  Znum[i,j] = x[i]**j\n",
        "    pw1=np.arange(0,d+1)\n",
        "    Za=x[:,None]**pw1[None,:]\n",
        "    # TODO 15.  Zden[i,j] = x[i]**(j+1)\n",
        "    pw2=np.arange(1,d+1)\n",
        "    Zb=x[:,None]**pw2[None,:]\n",
        "    # TODO 16.  Compute yhat \n",
        "    # Compute the numerator and denominator\n",
        "    num=Za.dot(a)\n",
        "    denom=Zb.dot(b)\n",
        "    yhat=num/(1+denom)\n",
        "    # TODO 17.  Compute loss\n",
        "    f = np.sum((yhat-y)**2)/2\n",
        "    \n",
        "    # TODO 18.  Compute gradients\n",
        "    den1=(yhat-y)/(1+denom)\n",
        "    J_a=den1.dot(Za)\n",
        "    num1=(y-yhat)*yhat/(1+denom)\n",
        "    J_b=num1.dot(Zb)\n",
        "    fgrad = np.hstack((J_a,J_b))\n",
        "    \n",
        "    return f, fgrad"
      ]
    },
    {
      "cell_type": "code",
      "execution_count": null,
      "metadata": {
        "colab": {
          "base_uri": "https://localhost:8080/"
        },
        "id": "AhbmIzYT4o7F",
        "outputId": "ee856d00-c131-42f2-ea09-04844fbb19da"
      },
      "outputs": [
        {
          "output_type": "stream",
          "name": "stdout",
          "text": [
            "[2.909415312835062e-07, 2.90820791305462e-07]\n"
          ]
        },
        {
          "output_type": "stream",
          "name": "stderr",
          "text": [
            "/usr/local/lib/python3.7/dist-packages/ipykernel_launcher.py:13: FutureWarning: Support for multi-dimensional indexing (e.g. `obj[:, None]`) is deprecated and will be removed in a future version.  Convert to a numpy array before indexing instead.\n",
            "  del sys.path[0]\n",
            "/usr/local/lib/python3.7/dist-packages/ipykernel_launcher.py:16: FutureWarning: Support for multi-dimensional indexing (e.g. `obj[:, None]`) is deprecated and will be removed in a future version.  Convert to a numpy array before indexing instead.\n",
            "  app.launch_new_instance()\n"
          ]
        }
      ],
      "source": [
        "# TODO 19\n",
        "w0=winit\n",
        "w1=w0+np.random.normal(0,1,len(w0))*1e-6\n",
        "f0,fgrad0=feval(w0,xtr,ytr)\n",
        "f1,fgrad1=feval(w1,xtr,ytr)\n",
        "print([f1-f0, fgrad0.dot(w1-w0)])"
      ]
    },
    {
      "cell_type": "code",
      "execution_count": null,
      "metadata": {
        "colab": {
          "base_uri": "https://localhost:8080/",
          "height": 352
        },
        "id": "9RPm1MFy5Wzx",
        "outputId": "90e0f2f4-ebfc-47e6-cc35-db0724ea63d0"
      },
      "outputs": [
        {
          "output_type": "stream",
          "name": "stderr",
          "text": [
            "/usr/local/lib/python3.7/dist-packages/ipykernel_launcher.py:13: FutureWarning: Support for multi-dimensional indexing (e.g. `obj[:, None]`) is deprecated and will be removed in a future version.  Convert to a numpy array before indexing instead.\n",
            "  del sys.path[0]\n",
            "/usr/local/lib/python3.7/dist-packages/ipykernel_launcher.py:16: FutureWarning: Support for multi-dimensional indexing (e.g. `obj[:, None]`) is deprecated and will be removed in a future version.  Convert to a numpy array before indexing instead.\n",
            "  app.launch_new_instance()\n"
          ]
        },
        {
          "output_type": "display_data",
          "data": {
            "text/plain": [
              "<Figure size 432x288 with 1 Axes>"
            ],
            "image/png": "[encoded data removed]"
          },
          "metadata": {
            "needs_background": "light"
          }
        }
      ],
      "source": [
        "# TODO 20\n",
        "\n",
        "nit = 10000\n",
        "step = 1e-6\n",
        "fgd = np.empty(nit)\n",
        "w0=winit\n",
        "for it in range(nit):\n",
        "  fgd[it],fgrad=feval(w0,xtr,ytr)\n",
        "  w0=w0-step*fgrad\n",
        "plt.plot(np.arange(nit),fgd)\n",
        "plt.xlabel(\"Iteration Times\")\n",
        "plt.ylabel(\"Loss\")\n",
        "plt.grid()"
      ]
    },
    {
      "cell_type": "code",
      "execution_count": null,
      "metadata": {
        "colab": {
          "base_uri": "https://localhost:8080/",
          "height": 352
        },
        "id": "q5dFFvzb99if",
        "outputId": "31b2a150-a0f1-4f9f-f0e5-fdd92265a32b"
      },
      "outputs": [
        {
          "output_type": "stream",
          "name": "stderr",
          "text": [
            "/usr/local/lib/python3.7/dist-packages/ipykernel_launcher.py:13: FutureWarning: Support for multi-dimensional indexing (e.g. `obj[:, None]`) is deprecated and will be removed in a future version.  Convert to a numpy array before indexing instead.\n",
            "  del sys.path[0]\n",
            "/usr/local/lib/python3.7/dist-packages/ipykernel_launcher.py:16: FutureWarning: Support for multi-dimensional indexing (e.g. `obj[:, None]`) is deprecated and will be removed in a future version.  Convert to a numpy array before indexing instead.\n",
            "  app.launch_new_instance()\n"
          ]
        },
        {
          "output_type": "display_data",
          "data": {
            "text/plain": [
              "<Figure size 432x288 with 1 Axes>"
            ],
            "image/png": "[encoded data removed]"
          },
          "metadata": {
            "needs_background": "light"
          }
        }
      ],
      "source": [
        "# TODO 21\n",
        "\n",
        "nit = 10000\n",
        "step = 1e-6  # Initial step\n",
        "fadapt = np.zeros(nit)\n",
        "w0=winit\n",
        "f0,fgrad0=feval(w0,xtr,ytr)\n",
        "for it in range(nit):\n",
        "  w1=w0-step*fgrad\n",
        "  f1,fgrad1=feval(w1,xtr,ytr)\n",
        "  if(f1-f0<0.5*fgrad0.dot(w1-w0))and(f1<f0):\n",
        "    w0=w1\n",
        "    f0=f1\n",
        "    fgrad0=fgrad1\n",
        "    step=step*2\n",
        "  else:\n",
        "    step=step/2\n",
        "  fadapt[it]=f0\n",
        "\n",
        "plt.plot(fgd)\n",
        "plt.plot(fadapt)\n",
        "plt.xlabel(\"Iteration Times\")\n",
        "plt.ylabel(\"Loss\")\n",
        "plt.legend(['fgd','fadapt'])\n",
        "plt.grid()"
      ]
    },
    {
      "cell_type": "code",
      "execution_count": null,
      "metadata": {
        "colab": {
          "base_uri": "https://localhost:8080/"
        },
        "id": "2BdRTuLMe6-Z",
        "outputId": "933648a2-18c7-4f6f-9f02-b8fdaa5cb462"
      },
      "outputs": [
        {
          "output_type": "execute_result",
          "data": {
            "text/plain": [
              "<matplotlib.legend.Legend at 0x7f3f4105c390>"
            ]
          },
          "metadata": {},
          "execution_count": 14
        },
        {
          "output_type": "display_data",
          "data": {
            "text/plain": [
              "<Figure size 432x288 with 1 Axes>"
            ],
            "image/png": "[encoded data removed]"
          },
          "metadata": {
            "needs_background": "light"
          }
        }
      ],
      "source": [
        "# TODO 22\n",
        "xp = np.linspace(0,1,1000)\n",
        "y=predict(winit,xp)\n",
        "yhat = predict(w0,xp)\n",
        "plt.plot(y,xp)\n",
        "plt.plot(yhat,xp)\n",
        "plt.xlabel(\"x\")\n",
        "plt.ylabel(\"y\")\n",
        "plt.legend(['initial y','yhat'])"
      ]
    },
    {
      "cell_type": "code",
      "execution_count": null,
      "metadata": {
        "colab": {
          "base_uri": "https://localhost:8080/"
        },
        "id": "1RB64yxNgTPl",
        "outputId": "1db4d2de-8f71-4649-bb7b-69904ae699a8"
      },
      "outputs": [
        {
          "output_type": "stream",
          "name": "stderr",
          "text": [
            "/usr/local/lib/python3.7/dist-packages/ipykernel_launcher.py:13: FutureWarning: Support for multi-dimensional indexing (e.g. `obj[:, None]`) is deprecated and will be removed in a future version.  Convert to a numpy array before indexing instead.\n",
            "  del sys.path[0]\n",
            "/usr/local/lib/python3.7/dist-packages/ipykernel_launcher.py:16: FutureWarning: Support for multi-dimensional indexing (e.g. `obj[:, None]`) is deprecated and will be removed in a future version.  Convert to a numpy array before indexing instead.\n",
            "  app.launch_new_instance()\n"
          ]
        }
      ],
      "source": [
        "# TODO 23\n",
        "nit = 1000\n",
        "step = 1e-3\n",
        "beta = 0.99\n",
        "Z=np.zeros(len(winit))\n",
        "momentum=np.zeros(nit)\n",
        "w0=winit\n",
        "for it in range(nit):\n",
        "  momentum[it],fgrad=feval(w0,xtr,ytr)\n",
        "  Z=beta*Z+fgrad\n",
        "  w0=w0-step*Z"
      ]
    },
    {
      "cell_type": "code",
      "execution_count": null,
      "metadata": {
        "id": "5JIM53dfhkX-",
        "colab": {
          "base_uri": "https://localhost:8080/"
        },
        "outputId": "f8a7e41b-3a63-4285-ceac-d1d00d2c4371"
      },
      "outputs": [
        {
          "output_type": "display_data",
          "data": {
            "text/plain": [
              "<Figure size 432x288 with 1 Axes>"
            ],
            "image/png": "[encoded data removed]"
          },
          "metadata": {
            "needs_background": "light"
          }
        }
      ],
      "source": [
        "# TODO 24\n",
        "# plot yhat vs. x\n",
        "plt.plot(fgd)\n",
        "plt.plot(momentum)\n",
        "plt.xlabel(\"Iteration Times\")\n",
        "plt.ylabel(\"Loss\")\n",
        "plt.legend(['fgd','momentn'])\n",
        "plt.grid()"
      ]
    }
  ],
  "metadata": {
    "colab": {
      "collapsed_sections": [],
      "name": "lab6.ipynb",
      "provenance": [],
      "authorship_tag": "ABX9TyMHeXqE3JQkkpRROak4fBjn",
      "include_colab_link": true
    },
    "kernelspec": {
      "display_name": "Python 3",
      "name": "python3"
    },
    "language_info": {
      "name": "python"
    }
  },
  "nbformat": 4,
  "nbformat_minor": 0
}
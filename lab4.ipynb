{
  "nbformat": 4,
  "nbformat_minor": 0,
  "metadata": {
    "colab": {
      "name": "lab4.ipynb",
      "provenance": [],
      "collapsed_sections": [],
      "authorship_tag": "ABX9TyN8GTHq3qGIs80+FO7C5ff7",
      "include_colab_link": true
    },
    "kernelspec": {
      "name": "python3",
      "display_name": "Python 3"
    },
    "language_info": {
      "name": "python"
    }
  },
  "cells": [
    {
      "cell_type": "markdown",
      "metadata": {
        "id": "view-in-github",
        "colab_type": "text"
      },
      "source": [
        "<a href=\"https://colab.research.google.com/github/AbyssGazer-Oliver/Machine-Learning/blob/main/lab4.ipynb\" target=\"_parent\"><img src=\"https://colab.research.google.com/assets/colab-badge.svg\" alt=\"Open In Colab\"/></a>"
      ]
    },
    {
      "cell_type": "code",
      "execution_count": null,
      "metadata": {
        "id": "_qc1xL2yxj0K"
      },
      "outputs": [],
      "source": [
        "import numpy as np\n",
        "import matplotlib.pyplot as plt\n",
        "import pickle\n",
        "\n",
        "from sklearn.linear_model import Lasso, Ridge, ElasticNet\n",
        "from sklearn.metrics import r2_score\n",
        "from sklearn.model_selection import train_test_split"
      ]
    },
    {
      "cell_type": "code",
      "source": [
        "fn_src ='https://drive.google.com/uc?export=download&id=1RzQpKONOcXSMxH2ZzOI4iVMiTgD6ttSl'\n",
        "fn_dst ='eeg_dat.p'\n",
        "\n",
        "import os\n",
        "from six.moves import urllib\n",
        "\n",
        "if os.path.isfile(fn_dst):\n",
        "    print('File %s is already downloaded' % fn_dst)\n",
        "else:        \n",
        "    print('Fetching file %s [53MB].  This may take a minute..' % fn_dst)\n",
        "    urllib.request.urlretrieve(fn_src, fn_dst)\n",
        "    print('File %s downloaded' % fn_dst)"
      ],
      "metadata": {
        "colab": {
          "base_uri": "https://localhost:8080/"
        },
        "id": "4ULf1F3RyAVY",
        "outputId": "5354d47b-7002-4f2f-ddd5-f29c35af9093"
      },
      "execution_count": null,
      "outputs": [
        {
          "output_type": "stream",
          "name": "stdout",
          "text": [
            "File eeg_dat.p is already downloaded\n"
          ]
        }
      ]
    },
    {
      "cell_type": "code",
      "source": [
        "import pickle\n",
        "fn = 'eeg_dat.p'\n",
        "with open(fn, 'rb') as fp:\n",
        "    [X,Y] = pickle.load(fp)"
      ],
      "metadata": {
        "id": "iisBZiBFyFIe"
      },
      "execution_count": null,
      "outputs": []
    },
    {
      "cell_type": "code",
      "source": [
        "# TODO 1\n",
        "nt =Y.shape[1]\n",
        "ncur =X.shape[1]\n",
        "nchan =Y.shape[0]\n",
        "nvoxels =ncur/3"
      ],
      "metadata": {
        "id": "xpPq9YxyyNnn"
      },
      "execution_count": null,
      "outputs": []
    },
    {
      "cell_type": "code",
      "source": [
        "# TODO 2\n",
        "Xtr,Xts,Ytr,Yts = train_test_split(X,Y,test_size=0.33) "
      ],
      "metadata": {
        "id": "R0Ovg2Rey1l9"
      },
      "execution_count": null,
      "outputs": []
    },
    {
      "cell_type": "code",
      "source": [
        "# TODO 3\n",
        "# , copy_X=True, fit_intercept=True, max_iter=None, normalize=False, random_state=None, solver='auto', tol=0.001\n",
        "regr = Ridge(alpha=1.0)"
      ],
      "metadata": {
        "id": "Y50HkIclzCl0"
      },
      "execution_count": null,
      "outputs": []
    },
    {
      "cell_type": "code",
      "source": [
        "# TODO 4\n",
        "regr.fit(Xtr,Ytr)\n",
        "Ytrhat=regr.predict(Xtr)\n",
        "Ytshat=regr.predict(Xts)\n",
        "rsq_tr = r2_score(Ytr,Ytrhat)\n",
        "rsq_ts = r2_score(Yts,Ytshat)\n",
        "print(rsq_tr)\n",
        "print(rsq_ts)"
      ],
      "metadata": {
        "colab": {
          "base_uri": "https://localhost:8080/"
        },
        "id": "p-2j6fgS0Y--",
        "outputId": "452be9ce-f59f-49c0-f4e7-c4f1bb3dcb42"
      },
      "execution_count": null,
      "outputs": [
        {
          "output_type": "stream",
          "name": "stdout",
          "text": [
            "0.605997283864357\n",
            "0.17137045221201824\n"
          ]
        }
      ]
    },
    {
      "cell_type": "code",
      "source": [
        "# TODO 5\n",
        "alphas=np.logspace(-2,2,20)\n",
        "r2tr=[]\n",
        "r2ts=[]\n",
        "for alpha in alphas:\n",
        "  regr=Ridge(alpha=alpha)\n",
        "  regr.fit(Xtr,Ytr)\n",
        "  Ytrhat=regr.predict(Xtr)\n",
        "  Ytshat=regr.predict(Xts)\n",
        "  rsq_tr = r2_score(Ytr,Ytrhat)\n",
        "  rsq_ts = r2_score(Yts,Ytshat)\n",
        "  r2tr.append(rsq_tr)\n",
        "  r2ts.append(rsq_ts)\n",
        "r2tr=np.array(r2tr)\n",
        "r2ts=np.array(r2ts)"
      ],
      "metadata": {
        "id": "jhmepW1N1mIY"
      },
      "execution_count": null,
      "outputs": []
    },
    {
      "cell_type": "code",
      "source": [
        "# TODO 6\n",
        "plt.semilogx(alphas,r2ts,linestyle='solid')\n",
        "plt.xlabel(\"alpha\")\n",
        "plt.ylabel(\"R2\")\n",
        "plt.grid()\n",
        "plt.show()\n",
        "print(\"optimal R^2=\",np.max(r2ts))"
      ],
      "metadata": {
        "colab": {
          "base_uri": "https://localhost:8080/",
          "height": 301
        },
        "id": "sbvrmoxW4yZQ",
        "outputId": "620d7ca1-7dc3-4395-e97c-d8c9855228fc"
      },
      "execution_count": null,
      "outputs": [
        {
          "output_type": "display_data",
          "data": {
            "image/png": "[encoded data removed]",
            "text/plain": [
              "<Figure size 432x288 with 1 Axes>"
            ]
          },
          "metadata": {
            "needs_background": "light"
          }
        },
        {
          "output_type": "stream",
          "name": "stdout",
          "text": [
            "optimal R^2= 0.19773607867995027\n"
          ]
        }
      ]
    },
    {
      "cell_type": "code",
      "source": [
        "# TODO 7\n",
        "alpha_opt=alphas[np.argmax(r2ts)]\n",
        "regr=Ridge(alpha=alpha_opt)\n",
        "regr.fit(Xtr,Ytr)\n",
        "W=regr.coef_\n",
        "Wrms=np.sqrt(np.sum(W**2,axis=0))\n",
        "print(Wrms)\n",
        "plt.stem(Wrms)"
      ],
      "metadata": {
        "colab": {
          "base_uri": "https://localhost:8080/",
          "height": 358
        },
        "id": "KusFWW_161C3",
        "outputId": "fc670634-2f88-46b6-dc3c-087b868b92e3"
      },
      "execution_count": null,
      "outputs": [
        {
          "output_type": "stream",
          "name": "stdout",
          "text": [
            "[0.21681906 0.09511605 0.12017257 ... 0.09274939 0.06972805 0.05843275]\n"
          ]
        },
        {
          "output_type": "stream",
          "name": "stderr",
          "text": [
            "/usr/local/lib/python3.7/dist-packages/ipykernel_launcher.py:8: UserWarning: In Matplotlib 3.3 individual lines on a stem plot will be added as a LineCollection instead of individual lines. This significantly improves the performance of a stem plot. To remove this warning and switch to the new behaviour, set the \"use_line_collection\" keyword argument to True.\n",
            "  \n"
          ]
        },
        {
          "output_type": "execute_result",
          "data": {
            "text/plain": [
              "<StemContainer object of 3 artists>"
            ]
          },
          "metadata": {},
          "execution_count": 30
        },
        {
          "output_type": "display_data",
          "data": {
            "image/png": "[encoded data removed]",
            "text/plain": [
              "<Figure size 432x288 with 1 Axes>"
            ]
          },
          "metadata": {
            "needs_background": "light"
          }
        }
      ]
    },
    {
      "cell_type": "code",
      "source": [
        "# TODO 8\n",
        "regr2=Lasso(alpha=1e-3,max_iter=100,tol=0.01)\n",
        "regr2.fit(Xtr,Ytr)"
      ],
      "metadata": {
        "colab": {
          "base_uri": "https://localhost:8080/"
        },
        "id": "xf3H_lTj-X6A",
        "outputId": "7e1b2ecb-ee6d-4636-c3fd-fe917ea11c01"
      },
      "execution_count": null,
      "outputs": [
        {
          "output_type": "execute_result",
          "data": {
            "text/plain": [
              "Lasso(alpha=0.001, max_iter=100, tol=0.01)"
            ]
          },
          "metadata": {},
          "execution_count": 31
        }
      ]
    },
    {
      "cell_type": "code",
      "source": [
        "# TODO 9\n",
        "Ytshat=regr2.predict(Xts)\n",
        "rsq_ts = r2_score(Yts,Ytshat)\n",
        "print(rsq_ts)"
      ],
      "metadata": {
        "colab": {
          "base_uri": "https://localhost:8080/"
        },
        "id": "W7nD1WIUBHTF",
        "outputId": "5f20edac-4e9e-4dcd-ccb1-569aa47ab0f6"
      },
      "execution_count": null,
      "outputs": [
        {
          "output_type": "stream",
          "name": "stdout",
          "text": [
            "0.14865291247248064\n"
          ]
        }
      ]
    },
    {
      "cell_type": "code",
      "source": [
        "# TODO 10\n",
        "alphas=np.logspace(-4,-3,5)\n",
        "W=[]\n",
        "r2ts=[]\n",
        "for alpha in alphas:\n",
        "  regr2=Lasso(alpha=alpha,max_iter=100,tol=0.01)\n",
        "  regr2.fit(Xtr,Ytr)\n",
        "  Ytshat=regr2.predict(Xts)\n",
        "  rsq_ts=r2_score(Yts,Ytshat)\n",
        "  r2ts.append(rsq_ts)\n",
        "  W.append(regr2.coef_)\n",
        "r2ts=np.array(r2ts)"
      ],
      "metadata": {
        "id": "5vslA8g4LjCo"
      },
      "execution_count": null,
      "outputs": []
    },
    {
      "cell_type": "code",
      "source": [
        "# TODO 11\n",
        "plt.semilogx(alphas,r2ts,linestyle='solid')\n",
        "plt.xlabel(\"alpha\")\n",
        "plt.ylabel(\"R2\")\n",
        "plt.grid()\n",
        "plt.show()\n",
        "print(\"optimal R^2=\",np.max(r2ts))"
      ],
      "metadata": {
        "colab": {
          "base_uri": "https://localhost:8080/",
          "height": 301
        },
        "id": "W10gYEhMGbzl",
        "outputId": "f3af7dd0-ff30-4574-957e-db3ac49beb76"
      },
      "execution_count": null,
      "outputs": [
        {
          "output_type": "display_data",
          "data": {
            "image/png": "[encoded data removed]",
            "text/plain": [
              "<Figure size 432x288 with 1 Axes>"
            ]
          },
          "metadata": {
            "needs_background": "light"
          }
        },
        {
          "output_type": "stream",
          "name": "stdout",
          "text": [
            "optimal R^2= 0.312647785159508\n"
          ]
        }
      ]
    },
    {
      "cell_type": "code",
      "source": [
        "# TODO 12\n",
        "W_opt=W[np.argmax(r2ts)]\n",
        "Wrms=np.sqrt(np.sum(W_opt**2,axis=0))\n",
        "plt.stem(Wrms)"
      ],
      "metadata": {
        "colab": {
          "base_uri": "https://localhost:8080/",
          "height": 340
        },
        "id": "n2WhDAxhNnoA",
        "outputId": "fcba9d00-682e-440f-814f-bacdcb6f6395"
      },
      "execution_count": null,
      "outputs": [
        {
          "output_type": "stream",
          "name": "stderr",
          "text": [
            "/usr/local/lib/python3.7/dist-packages/ipykernel_launcher.py:4: UserWarning: In Matplotlib 3.3 individual lines on a stem plot will be added as a LineCollection instead of individual lines. This significantly improves the performance of a stem plot. To remove this warning and switch to the new behaviour, set the \"use_line_collection\" keyword argument to True.\n",
            "  after removing the cwd from sys.path.\n"
          ]
        },
        {
          "output_type": "execute_result",
          "data": {
            "text/plain": [
              "<StemContainer object of 3 artists>"
            ]
          },
          "metadata": {},
          "execution_count": 44
        },
        {
          "output_type": "display_data",
          "data": {
            "image/png": "[encoded data removed]",
            "text/plain": [
              "<Figure size 432x288 with 1 Axes>"
            ]
          },
          "metadata": {
            "needs_background": "light"
          }
        }
      ]
    }
  ]
}